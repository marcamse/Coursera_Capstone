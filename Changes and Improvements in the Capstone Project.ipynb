{
 "cells": [
  {
   "cell_type": "markdown",
   "metadata": {},
   "source": [
    "This notebook is dedicated to changes and improvements on my first data science project. We start as always, by importing the necessary libraries:"
   ]
  },
  {
   "cell_type": "code",
   "execution_count": 1,
   "metadata": {},
   "outputs": [],
   "source": [
    "import pandas as pd\n",
    "import datetime as dt\n",
    "import numpy as np\n",
    "import missingno as msno\n",
    "import matplotlib.pyplot as plt\n",
    "from fuzzywuzzy import process\n",
    "pd.options.mode.chained_assignment = None  # default='warn'"
   ]
  },
  {
   "cell_type": "markdown",
   "metadata": {},
   "source": [
    "Then we open the file with the venue's data."
   ]
  },
  {
   "cell_type": "code",
   "execution_count": 2,
   "metadata": {
    "scrolled": false
   },
   "outputs": [
    {
     "data": {
      "text/html": [
       "<div>\n",
       "<style scoped>\n",
       "    .dataframe tbody tr th:only-of-type {\n",
       "        vertical-align: middle;\n",
       "    }\n",
       "\n",
       "    .dataframe tbody tr th {\n",
       "        vertical-align: top;\n",
       "    }\n",
       "\n",
       "    .dataframe thead th {\n",
       "        text-align: right;\n",
       "    }\n",
       "</style>\n",
       "<table border=\"1\" class=\"dataframe\">\n",
       "  <thead>\n",
       "    <tr style=\"text-align: right;\">\n",
       "      <th></th>\n",
       "      <th>id_local</th>\n",
       "      <th>id_distrito_local</th>\n",
       "      <th>desc_distrito_local</th>\n",
       "      <th>id_barrio_local</th>\n",
       "      <th>desc_barrio_local</th>\n",
       "      <th>cod_barrio_local</th>\n",
       "      <th>id_seccion_censal_local</th>\n",
       "      <th>desc_seccion_censal_local</th>\n",
       "      <th>coordenada_x_local</th>\n",
       "      <th>coordenada_y_local</th>\n",
       "      <th>...</th>\n",
       "      <th>desc_tipo_agrup</th>\n",
       "      <th>id_planta_agrupado</th>\n",
       "      <th>id_local_agrupado</th>\n",
       "      <th>rotulo</th>\n",
       "      <th>id_seccion</th>\n",
       "      <th>desc_seccion</th>\n",
       "      <th>id_division</th>\n",
       "      <th>desc_division</th>\n",
       "      <th>id_epigrafe</th>\n",
       "      <th>desc_epigrafe</th>\n",
       "    </tr>\n",
       "  </thead>\n",
       "  <tbody>\n",
       "    <tr>\n",
       "      <td>0</td>\n",
       "      <td>10000003</td>\n",
       "      <td>1</td>\n",
       "      <td>CENTRO</td>\n",
       "      <td>104</td>\n",
       "      <td>JUSTICIA</td>\n",
       "      <td>NaN</td>\n",
       "      <td>NaN</td>\n",
       "      <td>88</td>\n",
       "      <td>440554,59</td>\n",
       "      <td>4475338,53</td>\n",
       "      <td>...</td>\n",
       "      <td>NaN</td>\n",
       "      <td>PB</td>\n",
       "      <td>NaN</td>\n",
       "      <td>VITACA</td>\n",
       "      <td>I</td>\n",
       "      <td>HOSTELERIA</td>\n",
       "      <td>56</td>\n",
       "      <td>SERVICIOS DE COMIDAS Y BEBIDAS</td>\n",
       "      <td>561006</td>\n",
       "      <td>CAFETERIA</td>\n",
       "    </tr>\n",
       "    <tr>\n",
       "      <td>1</td>\n",
       "      <td>10000044</td>\n",
       "      <td>1</td>\n",
       "      <td>CENTRO</td>\n",
       "      <td>101</td>\n",
       "      <td>PALACIO</td>\n",
       "      <td>NaN</td>\n",
       "      <td>NaN</td>\n",
       "      <td>14</td>\n",
       "      <td>439722,59</td>\n",
       "      <td>4473550,53</td>\n",
       "      <td>...</td>\n",
       "      <td>NaN</td>\n",
       "      <td>PB</td>\n",
       "      <td>NaN</td>\n",
       "      <td>V.M. VINOMANIA</td>\n",
       "      <td>G</td>\n",
       "      <td>COMERCIO AL POR MAYOR Y AL POR MENOR; REPARACI...</td>\n",
       "      <td>47</td>\n",
       "      <td>COMERCIO AL POR MENOR, EXCEPTO DE VEHICULOS DE...</td>\n",
       "      <td>472502</td>\n",
       "      <td>COMERCIO AL POR MENOR DE VINOS Y ALCOHOLES (BO...</td>\n",
       "    </tr>\n",
       "    <tr>\n",
       "      <td>2</td>\n",
       "      <td>10000071</td>\n",
       "      <td>1</td>\n",
       "      <td>CENTRO</td>\n",
       "      <td>106</td>\n",
       "      <td>SOL</td>\n",
       "      <td>NaN</td>\n",
       "      <td>NaN</td>\n",
       "      <td>119</td>\n",
       "      <td>440388,59</td>\n",
       "      <td>4474077,53</td>\n",
       "      <td>...</td>\n",
       "      <td>NaN</td>\n",
       "      <td>PB</td>\n",
       "      <td>NaN</td>\n",
       "      <td>LA DESCUBIERTA</td>\n",
       "      <td>I</td>\n",
       "      <td>HOSTELERIA</td>\n",
       "      <td>56</td>\n",
       "      <td>SERVICIOS DE COMIDAS Y BEBIDAS</td>\n",
       "      <td>561001</td>\n",
       "      <td>RESTAURANTE</td>\n",
       "    </tr>\n",
       "    <tr>\n",
       "      <td>3</td>\n",
       "      <td>10000097</td>\n",
       "      <td>1</td>\n",
       "      <td>CENTRO</td>\n",
       "      <td>104</td>\n",
       "      <td>JUSTICIA</td>\n",
       "      <td>NaN</td>\n",
       "      <td>NaN</td>\n",
       "      <td>77</td>\n",
       "      <td>440851,59</td>\n",
       "      <td>4474857,52</td>\n",
       "      <td>...</td>\n",
       "      <td>NaN</td>\n",
       "      <td>PB</td>\n",
       "      <td>NaN</td>\n",
       "      <td>BARRIGA LLENA</td>\n",
       "      <td>I</td>\n",
       "      <td>HOSTELERIA</td>\n",
       "      <td>56</td>\n",
       "      <td>SERVICIOS DE COMIDAS Y BEBIDAS</td>\n",
       "      <td>561001</td>\n",
       "      <td>RESTAURANTE</td>\n",
       "    </tr>\n",
       "    <tr>\n",
       "      <td>4</td>\n",
       "      <td>10000224</td>\n",
       "      <td>1</td>\n",
       "      <td>CENTRO</td>\n",
       "      <td>102</td>\n",
       "      <td>EMBAJADORES</td>\n",
       "      <td>NaN</td>\n",
       "      <td>NaN</td>\n",
       "      <td>35</td>\n",
       "      <td>0</td>\n",
       "      <td>0</td>\n",
       "      <td>...</td>\n",
       "      <td>Mercado Municipal</td>\n",
       "      <td>PB</td>\n",
       "      <td>70</td>\n",
       "      <td>SIN ROTULO</td>\n",
       "      <td>G</td>\n",
       "      <td>COMERCIO AL POR MAYOR Y AL POR MENOR; REPARACI...</td>\n",
       "      <td>47</td>\n",
       "      <td>COMERCIO AL POR MENOR, EXCEPTO DE VEHICULOS DE...</td>\n",
       "      <td>472201</td>\n",
       "      <td>COMERCIO AL POR MENOR DE CARNICERIA</td>\n",
       "    </tr>\n",
       "  </tbody>\n",
       "</table>\n",
       "<p>5 rows × 46 columns</p>\n",
       "</div>"
      ],
      "text/plain": [
       "   id_local  id_distrito_local   desc_distrito_local  id_barrio_local  \\\n",
       "0  10000003                  1  CENTRO                            104   \n",
       "1  10000044                  1  CENTRO                            101   \n",
       "2  10000071                  1  CENTRO                            106   \n",
       "3  10000097                  1  CENTRO                            104   \n",
       "4  10000224                  1  CENTRO                            102   \n",
       "\n",
       "      desc_barrio_local  cod_barrio_local  id_seccion_censal_local  \\\n",
       "0  JUSTICIA                           NaN                      NaN   \n",
       "1  PALACIO                            NaN                      NaN   \n",
       "2  SOL                                NaN                      NaN   \n",
       "3  JUSTICIA                           NaN                      NaN   \n",
       "4  EMBAJADORES                        NaN                      NaN   \n",
       "\n",
       "   desc_seccion_censal_local coordenada_x_local coordenada_y_local  ...  \\\n",
       "0                         88          440554,59         4475338,53  ...   \n",
       "1                         14          439722,59         4473550,53  ...   \n",
       "2                        119          440388,59         4474077,53  ...   \n",
       "3                         77          440851,59         4474857,52  ...   \n",
       "4                         35                  0                  0  ...   \n",
       "\n",
       "     desc_tipo_agrup id_planta_agrupado  id_local_agrupado          rotulo  \\\n",
       "0                NaN                 PB                NaN          VITACA   \n",
       "1                NaN                 PB                NaN  V.M. VINOMANIA   \n",
       "2                NaN                 PB                NaN  LA DESCUBIERTA   \n",
       "3                NaN                 PB                NaN   BARRIGA LLENA   \n",
       "4  Mercado Municipal                 PB                 70      SIN ROTULO   \n",
       "\n",
       "   id_seccion                                       desc_seccion id_division  \\\n",
       "0           I                                         HOSTELERIA          56   \n",
       "1           G  COMERCIO AL POR MAYOR Y AL POR MENOR; REPARACI...          47   \n",
       "2           I                                         HOSTELERIA          56   \n",
       "3           I                                         HOSTELERIA          56   \n",
       "4           G  COMERCIO AL POR MAYOR Y AL POR MENOR; REPARACI...          47   \n",
       "\n",
       "                                       desc_division  id_epigrafe  \\\n",
       "0                     SERVICIOS DE COMIDAS Y BEBIDAS       561006   \n",
       "1  COMERCIO AL POR MENOR, EXCEPTO DE VEHICULOS DE...       472502   \n",
       "2                     SERVICIOS DE COMIDAS Y BEBIDAS       561001   \n",
       "3                     SERVICIOS DE COMIDAS Y BEBIDAS       561001   \n",
       "4  COMERCIO AL POR MENOR, EXCEPTO DE VEHICULOS DE...       472201   \n",
       "\n",
       "                                       desc_epigrafe  \n",
       "0                                          CAFETERIA  \n",
       "1  COMERCIO AL POR MENOR DE VINOS Y ALCOHOLES (BO...  \n",
       "2                                        RESTAURANTE  \n",
       "3                                        RESTAURANTE  \n",
       "4                COMERCIO AL POR MENOR DE CARNICERIA  \n",
       "\n",
       "[5 rows x 46 columns]"
      ]
     },
     "execution_count": 2,
     "metadata": {},
     "output_type": "execute_result"
    }
   ],
   "source": [
    "df = pd.read_csv('OPEN DATA Locales-Epigrafes202002.csv', sep=';', encoding='latin-1', low_memory=False)\n",
    "df.head()"
   ]
  },
  {
   "cell_type": "markdown",
   "metadata": {},
   "source": [
    "The next step is checking is we have null values using .isna(), that returns a boolean DataFrame indicating if the values are NA, combined with .sum() to obtain the number of missing values for each column."
   ]
  },
  {
   "cell_type": "code",
   "execution_count": 3,
   "metadata": {},
   "outputs": [
    {
     "data": {
      "text/plain": [
       "id_local                          0\n",
       "id_distrito_local                 0\n",
       "desc_distrito_local               0\n",
       "id_barrio_local                   0\n",
       "desc_barrio_local                 0\n",
       "cod_barrio_local             163716\n",
       "id_seccion_censal_local      163716\n",
       "desc_seccion_censal_local         0\n",
       "coordenada_x_local                0\n",
       "coordenada_y_local                0\n",
       "id_tipo_acceso_local         163716\n",
       "desc_tipo_acceso_local            0\n",
       "id_situacion_local           163716\n",
       "desc_situacion_local              0\n",
       "id_vial_edificio                  0\n",
       "clase_vial_edificio               0\n",
       "desc_vial_edificio                0\n",
       "id_ndp_edificio                   0\n",
       "id_clase_ndp_edificio             0\n",
       "nom_edificio                      0\n",
       "num_edificio                      0\n",
       "cal_edificio                      0\n",
       "secuencial_local_PC               0\n",
       "id_vial_acceso               163716\n",
       "clase_vial_acceso                 0\n",
       "desc_vial_acceso                  0\n",
       "id_ndp_acceso                     0\n",
       "id_clase_ndp_acceso               0\n",
       "nom_acceso                        0\n",
       "num_acceso                        0\n",
       "cal_acceso                        0\n",
       "coordenada_x_agrupacion      148065\n",
       "coordenada_y_agrup           148065\n",
       "id_agrupacion                148065\n",
       "nombre_agrupacion            148065\n",
       "id_tipo_agrup                148065\n",
       "desc_tipo_agrup              148065\n",
       "id_planta_agrupado             2933\n",
       "id_local_agrupado            148154\n",
       "rotulo                            0\n",
       "id_seccion                    41102\n",
       "desc_seccion                  41102\n",
       "id_division                   41102\n",
       "desc_division                 41102\n",
       "id_epigrafe                   41102\n",
       "desc_epigrafe                 41105\n",
       "dtype: int64"
      ]
     },
     "execution_count": 3,
     "metadata": {},
     "output_type": "execute_result"
    }
   ],
   "source": [
    "df.isna().sum()"
   ]
  },
  {
   "cell_type": "markdown",
   "metadata": {},
   "source": [
    "We can see that that some columns are completely empty and others are almost empty. We can use the missingno and matplotlib.pyplot packages to visualize a missingness matrix."
   ]
  },
  {
   "cell_type": "code",
   "execution_count": 4,
   "metadata": {},
   "outputs": [
    {
     "data": {
      "image/png": "[encoded data removed]",
      "text/plain": [
       "<Figure size 1800x720 with 2 Axes>"
      ]
     },
     "metadata": {
      "needs_background": "light"
     },
     "output_type": "display_data"
    }
   ],
   "source": [
    "msno.matrix(df)\n",
    "plt.show()"
   ]
  },
  {
   "cell_type": "markdown",
   "metadata": {},
   "source": [
    "After checking for missing values, we select the columns that we need for the analysis:\n",
    "- id_local: venue id\n",
    "- desc_situacion_local: indicates if the venue is open, closed, used as a home\n",
    "- desc_distrito_local: name of the district where the venue is located\n",
    "- desc_barrio_local: name of the neighborhood where the venue is located\n",
    "- desc_seccion: activity section\n",
    "- desc_division: activity division\n",
    "- desc_epigrafe: activity"
   ]
  },
  {
   "cell_type": "code",
   "execution_count": 5,
   "metadata": {},
   "outputs": [],
   "source": [
    "columnas = ['id_local', 'desc_situacion_local', 'desc_distrito_local', 'desc_barrio_local', 'desc_seccion', 'desc_division', 'desc_epigrafe']"
   ]
  },
  {
   "cell_type": "code",
   "execution_count": 6,
   "metadata": {
    "scrolled": true
   },
   "outputs": [
    {
     "data": {
      "text/html": [
       "<div>\n",
       "<style scoped>\n",
       "    .dataframe tbody tr th:only-of-type {\n",
       "        vertical-align: middle;\n",
       "    }\n",
       "\n",
       "    .dataframe tbody tr th {\n",
       "        vertical-align: top;\n",
       "    }\n",
       "\n",
       "    .dataframe thead th {\n",
       "        text-align: right;\n",
       "    }\n",
       "</style>\n",
       "<table border=\"1\" class=\"dataframe\">\n",
       "  <thead>\n",
       "    <tr style=\"text-align: right;\">\n",
       "      <th></th>\n",
       "      <th>id_local</th>\n",
       "      <th>desc_situacion_local</th>\n",
       "      <th>desc_distrito_local</th>\n",
       "      <th>desc_barrio_local</th>\n",
       "      <th>desc_seccion</th>\n",
       "      <th>desc_division</th>\n",
       "      <th>desc_epigrafe</th>\n",
       "    </tr>\n",
       "  </thead>\n",
       "  <tbody>\n",
       "    <tr>\n",
       "      <td>0</td>\n",
       "      <td>10000003</td>\n",
       "      <td>Abierto</td>\n",
       "      <td>CENTRO</td>\n",
       "      <td>JUSTICIA</td>\n",
       "      <td>HOSTELERIA</td>\n",
       "      <td>SERVICIOS DE COMIDAS Y BEBIDAS</td>\n",
       "      <td>CAFETERIA</td>\n",
       "    </tr>\n",
       "    <tr>\n",
       "      <td>1</td>\n",
       "      <td>10000044</td>\n",
       "      <td>Abierto</td>\n",
       "      <td>CENTRO</td>\n",
       "      <td>PALACIO</td>\n",
       "      <td>COMERCIO AL POR MAYOR Y AL POR MENOR; REPARACI...</td>\n",
       "      <td>COMERCIO AL POR MENOR, EXCEPTO DE VEHICULOS DE...</td>\n",
       "      <td>COMERCIO AL POR MENOR DE VINOS Y ALCOHOLES (BO...</td>\n",
       "    </tr>\n",
       "    <tr>\n",
       "      <td>2</td>\n",
       "      <td>10000071</td>\n",
       "      <td>Abierto</td>\n",
       "      <td>CENTRO</td>\n",
       "      <td>SOL</td>\n",
       "      <td>HOSTELERIA</td>\n",
       "      <td>SERVICIOS DE COMIDAS Y BEBIDAS</td>\n",
       "      <td>RESTAURANTE</td>\n",
       "    </tr>\n",
       "    <tr>\n",
       "      <td>3</td>\n",
       "      <td>10000097</td>\n",
       "      <td>Abierto</td>\n",
       "      <td>CENTRO</td>\n",
       "      <td>JUSTICIA</td>\n",
       "      <td>HOSTELERIA</td>\n",
       "      <td>SERVICIOS DE COMIDAS Y BEBIDAS</td>\n",
       "      <td>RESTAURANTE</td>\n",
       "    </tr>\n",
       "    <tr>\n",
       "      <td>4</td>\n",
       "      <td>10000224</td>\n",
       "      <td>Abierto</td>\n",
       "      <td>CENTRO</td>\n",
       "      <td>EMBAJADORES</td>\n",
       "      <td>COMERCIO AL POR MAYOR Y AL POR MENOR; REPARACI...</td>\n",
       "      <td>COMERCIO AL POR MENOR, EXCEPTO DE VEHICULOS DE...</td>\n",
       "      <td>COMERCIO AL POR MENOR DE CARNICERIA</td>\n",
       "    </tr>\n",
       "  </tbody>\n",
       "</table>\n",
       "</div>"
      ],
      "text/plain": [
       "   id_local desc_situacion_local   desc_distrito_local     desc_barrio_local  \\\n",
       "0  10000003              Abierto  CENTRO                JUSTICIA               \n",
       "1  10000044              Abierto  CENTRO                PALACIO                \n",
       "2  10000071              Abierto  CENTRO                SOL                    \n",
       "3  10000097              Abierto  CENTRO                JUSTICIA               \n",
       "4  10000224              Abierto  CENTRO                EMBAJADORES            \n",
       "\n",
       "                                        desc_seccion  \\\n",
       "0                                         HOSTELERIA   \n",
       "1  COMERCIO AL POR MAYOR Y AL POR MENOR; REPARACI...   \n",
       "2                                         HOSTELERIA   \n",
       "3                                         HOSTELERIA   \n",
       "4  COMERCIO AL POR MAYOR Y AL POR MENOR; REPARACI...   \n",
       "\n",
       "                                       desc_division  \\\n",
       "0                     SERVICIOS DE COMIDAS Y BEBIDAS   \n",
       "1  COMERCIO AL POR MENOR, EXCEPTO DE VEHICULOS DE...   \n",
       "2                     SERVICIOS DE COMIDAS Y BEBIDAS   \n",
       "3                     SERVICIOS DE COMIDAS Y BEBIDAS   \n",
       "4  COMERCIO AL POR MENOR, EXCEPTO DE VEHICULOS DE...   \n",
       "\n",
       "                                       desc_epigrafe  \n",
       "0                                          CAFETERIA  \n",
       "1  COMERCIO AL POR MENOR DE VINOS Y ALCOHOLES (BO...  \n",
       "2                                        RESTAURANTE  \n",
       "3                                        RESTAURANTE  \n",
       "4                COMERCIO AL POR MENOR DE CARNICERIA  "
      ]
     },
     "execution_count": 6,
     "metadata": {},
     "output_type": "execute_result"
    }
   ],
   "source": [
    "df = df[columnas]\n",
    "df.head()"
   ]
  },
  {
   "cell_type": "markdown",
   "metadata": {},
   "source": [
    "We check again the number of null values."
   ]
  },
  {
   "cell_type": "code",
   "execution_count": 7,
   "metadata": {},
   "outputs": [
    {
     "data": {
      "text/plain": [
       "id_local                    0\n",
       "desc_situacion_local        0\n",
       "desc_distrito_local         0\n",
       "desc_barrio_local           0\n",
       "desc_seccion            41102\n",
       "desc_division           41102\n",
       "desc_epigrafe           41105\n",
       "dtype: int64"
      ]
     },
     "execution_count": 7,
     "metadata": {},
     "output_type": "execute_result"
    }
   ],
   "source": [
    "df.isna().sum()"
   ]
  },
  {
   "cell_type": "code",
   "execution_count": 8,
   "metadata": {},
   "outputs": [
    {
     "data": {
      "image/png": "[encoded data removed]",
      "text/plain": [
       "<Figure size 1800x720 with 2 Axes>"
      ]
     },
     "metadata": {
      "needs_background": "light"
     },
     "output_type": "display_data"
    }
   ],
   "source": [
    "msno.matrix(df)\n",
    "plt.show()"
   ]
  },
  {
   "cell_type": "markdown",
   "metadata": {},
   "source": [
    "We decide to keep only the open ('Abierto') venues."
   ]
  },
  {
   "cell_type": "code",
   "execution_count": 9,
   "metadata": {},
   "outputs": [],
   "source": [
    "df = df[df['desc_situacion_local'] == 'Abierto']"
   ]
  },
  {
   "cell_type": "code",
   "execution_count": 10,
   "metadata": {},
   "outputs": [
    {
     "data": {
      "text/plain": [
       "id_local                   0\n",
       "desc_situacion_local       0\n",
       "desc_distrito_local        0\n",
       "desc_barrio_local          0\n",
       "desc_seccion            1709\n",
       "desc_division           1709\n",
       "desc_epigrafe           1712\n",
       "dtype: int64"
      ]
     },
     "execution_count": 10,
     "metadata": {},
     "output_type": "execute_result"
    }
   ],
   "source": [
    "df.isna().sum()"
   ]
  },
  {
   "cell_type": "code",
   "execution_count": 11,
   "metadata": {},
   "outputs": [
    {
     "data": {
      "image/png": "[encoded data removed]",
      "text/plain": [
       "<Figure size 1800x720 with 2 Axes>"
      ]
     },
     "metadata": {
      "needs_background": "light"
     },
     "output_type": "display_data"
    }
   ],
   "source": [
    "msno.matrix(df)\n",
    "plt.show()"
   ]
  },
  {
   "cell_type": "markdown",
   "metadata": {},
   "source": [
    "We still have a few null values, so we drop them."
   ]
  },
  {
   "cell_type": "code",
   "execution_count": 12,
   "metadata": {},
   "outputs": [
    {
     "data": {
      "text/html": [
       "<div>\n",
       "<style scoped>\n",
       "    .dataframe tbody tr th:only-of-type {\n",
       "        vertical-align: middle;\n",
       "    }\n",
       "\n",
       "    .dataframe tbody tr th {\n",
       "        vertical-align: top;\n",
       "    }\n",
       "\n",
       "    .dataframe thead th {\n",
       "        text-align: right;\n",
       "    }\n",
       "</style>\n",
       "<table border=\"1\" class=\"dataframe\">\n",
       "  <thead>\n",
       "    <tr style=\"text-align: right;\">\n",
       "      <th></th>\n",
       "      <th>id_local</th>\n",
       "      <th>desc_situacion_local</th>\n",
       "      <th>desc_distrito_local</th>\n",
       "      <th>desc_barrio_local</th>\n",
       "      <th>desc_seccion</th>\n",
       "      <th>desc_division</th>\n",
       "      <th>desc_epigrafe</th>\n",
       "    </tr>\n",
       "  </thead>\n",
       "  <tbody>\n",
       "    <tr>\n",
       "      <td>0</td>\n",
       "      <td>10000003</td>\n",
       "      <td>Abierto</td>\n",
       "      <td>CENTRO</td>\n",
       "      <td>JUSTICIA</td>\n",
       "      <td>HOSTELERIA</td>\n",
       "      <td>SERVICIOS DE COMIDAS Y BEBIDAS</td>\n",
       "      <td>CAFETERIA</td>\n",
       "    </tr>\n",
       "    <tr>\n",
       "      <td>1</td>\n",
       "      <td>10000044</td>\n",
       "      <td>Abierto</td>\n",
       "      <td>CENTRO</td>\n",
       "      <td>PALACIO</td>\n",
       "      <td>COMERCIO AL POR MAYOR Y AL POR MENOR; REPARACI...</td>\n",
       "      <td>COMERCIO AL POR MENOR, EXCEPTO DE VEHICULOS DE...</td>\n",
       "      <td>COMERCIO AL POR MENOR DE VINOS Y ALCOHOLES (BO...</td>\n",
       "    </tr>\n",
       "    <tr>\n",
       "      <td>2</td>\n",
       "      <td>10000071</td>\n",
       "      <td>Abierto</td>\n",
       "      <td>CENTRO</td>\n",
       "      <td>SOL</td>\n",
       "      <td>HOSTELERIA</td>\n",
       "      <td>SERVICIOS DE COMIDAS Y BEBIDAS</td>\n",
       "      <td>RESTAURANTE</td>\n",
       "    </tr>\n",
       "    <tr>\n",
       "      <td>3</td>\n",
       "      <td>10000097</td>\n",
       "      <td>Abierto</td>\n",
       "      <td>CENTRO</td>\n",
       "      <td>JUSTICIA</td>\n",
       "      <td>HOSTELERIA</td>\n",
       "      <td>SERVICIOS DE COMIDAS Y BEBIDAS</td>\n",
       "      <td>RESTAURANTE</td>\n",
       "    </tr>\n",
       "    <tr>\n",
       "      <td>4</td>\n",
       "      <td>10000224</td>\n",
       "      <td>Abierto</td>\n",
       "      <td>CENTRO</td>\n",
       "      <td>EMBAJADORES</td>\n",
       "      <td>COMERCIO AL POR MAYOR Y AL POR MENOR; REPARACI...</td>\n",
       "      <td>COMERCIO AL POR MENOR, EXCEPTO DE VEHICULOS DE...</td>\n",
       "      <td>COMERCIO AL POR MENOR DE CARNICERIA</td>\n",
       "    </tr>\n",
       "  </tbody>\n",
       "</table>\n",
       "</div>"
      ],
      "text/plain": [
       "   id_local desc_situacion_local   desc_distrito_local     desc_barrio_local  \\\n",
       "0  10000003              Abierto  CENTRO                JUSTICIA               \n",
       "1  10000044              Abierto  CENTRO                PALACIO                \n",
       "2  10000071              Abierto  CENTRO                SOL                    \n",
       "3  10000097              Abierto  CENTRO                JUSTICIA               \n",
       "4  10000224              Abierto  CENTRO                EMBAJADORES            \n",
       "\n",
       "                                        desc_seccion  \\\n",
       "0                                         HOSTELERIA   \n",
       "1  COMERCIO AL POR MAYOR Y AL POR MENOR; REPARACI...   \n",
       "2                                         HOSTELERIA   \n",
       "3                                         HOSTELERIA   \n",
       "4  COMERCIO AL POR MAYOR Y AL POR MENOR; REPARACI...   \n",
       "\n",
       "                                       desc_division  \\\n",
       "0                     SERVICIOS DE COMIDAS Y BEBIDAS   \n",
       "1  COMERCIO AL POR MENOR, EXCEPTO DE VEHICULOS DE...   \n",
       "2                     SERVICIOS DE COMIDAS Y BEBIDAS   \n",
       "3                     SERVICIOS DE COMIDAS Y BEBIDAS   \n",
       "4  COMERCIO AL POR MENOR, EXCEPTO DE VEHICULOS DE...   \n",
       "\n",
       "                                       desc_epigrafe  \n",
       "0                                          CAFETERIA  \n",
       "1  COMERCIO AL POR MENOR DE VINOS Y ALCOHOLES (BO...  \n",
       "2                                        RESTAURANTE  \n",
       "3                                        RESTAURANTE  \n",
       "4                COMERCIO AL POR MENOR DE CARNICERIA  "
      ]
     },
     "execution_count": 12,
     "metadata": {},
     "output_type": "execute_result"
    }
   ],
   "source": [
    "df = df.dropna()\n",
    "df.head()"
   ]
  },
  {
   "cell_type": "markdown",
   "metadata": {},
   "source": [
    "The next step will be to check if we have duplicate values in the 'id_local' column using .duplicated() and keeping all the duplicates."
   ]
  },
  {
   "cell_type": "code",
   "execution_count": 13,
   "metadata": {},
   "outputs": [
    {
     "data": {
      "text/plain": [
       "0     True\n",
       "1    False\n",
       "2     True\n",
       "3    False\n",
       "4    False\n",
       "dtype: bool"
      ]
     },
     "execution_count": 13,
     "metadata": {},
     "output_type": "execute_result"
    }
   ],
   "source": [
    "dup = df.duplicated('id_local', keep=False)\n",
    "dup.head()"
   ]
  },
  {
   "cell_type": "markdown",
   "metadata": {},
   "source": [
    "We use dup to filter the DataFrame and keep only the rows with duplicate id's."
   ]
  },
  {
   "cell_type": "code",
   "execution_count": 14,
   "metadata": {},
   "outputs": [
    {
     "data": {
      "text/html": [
       "<div>\n",
       "<style scoped>\n",
       "    .dataframe tbody tr th:only-of-type {\n",
       "        vertical-align: middle;\n",
       "    }\n",
       "\n",
       "    .dataframe tbody tr th {\n",
       "        vertical-align: top;\n",
       "    }\n",
       "\n",
       "    .dataframe thead th {\n",
       "        text-align: right;\n",
       "    }\n",
       "</style>\n",
       "<table border=\"1\" class=\"dataframe\">\n",
       "  <thead>\n",
       "    <tr style=\"text-align: right;\">\n",
       "      <th></th>\n",
       "      <th>id_local</th>\n",
       "      <th>desc_situacion_local</th>\n",
       "      <th>desc_distrito_local</th>\n",
       "      <th>desc_barrio_local</th>\n",
       "      <th>desc_seccion</th>\n",
       "      <th>desc_division</th>\n",
       "      <th>desc_epigrafe</th>\n",
       "    </tr>\n",
       "  </thead>\n",
       "  <tbody>\n",
       "    <tr>\n",
       "      <td>0</td>\n",
       "      <td>10000003</td>\n",
       "      <td>Abierto</td>\n",
       "      <td>CENTRO</td>\n",
       "      <td>JUSTICIA</td>\n",
       "      <td>HOSTELERIA</td>\n",
       "      <td>SERVICIOS DE COMIDAS Y BEBIDAS</td>\n",
       "      <td>CAFETERIA</td>\n",
       "    </tr>\n",
       "    <tr>\n",
       "      <td>45</td>\n",
       "      <td>10000003</td>\n",
       "      <td>Abierto</td>\n",
       "      <td>CENTRO</td>\n",
       "      <td>JUSTICIA</td>\n",
       "      <td>HOSTELERIA</td>\n",
       "      <td>SERVICIOS DE COMIDAS Y BEBIDAS</td>\n",
       "      <td>BAR RESTAURANTE</td>\n",
       "    </tr>\n",
       "    <tr>\n",
       "      <td>2</td>\n",
       "      <td>10000071</td>\n",
       "      <td>Abierto</td>\n",
       "      <td>CENTRO</td>\n",
       "      <td>SOL</td>\n",
       "      <td>HOSTELERIA</td>\n",
       "      <td>SERVICIOS DE COMIDAS Y BEBIDAS</td>\n",
       "      <td>RESTAURANTE</td>\n",
       "    </tr>\n",
       "    <tr>\n",
       "      <td>64</td>\n",
       "      <td>10000071</td>\n",
       "      <td>Abierto</td>\n",
       "      <td>CENTRO</td>\n",
       "      <td>SOL</td>\n",
       "      <td>HOSTELERIA</td>\n",
       "      <td>SERVICIOS DE COMIDAS Y BEBIDAS</td>\n",
       "      <td>CAFETERIA</td>\n",
       "    </tr>\n",
       "    <tr>\n",
       "      <td>55</td>\n",
       "      <td>10000102</td>\n",
       "      <td>Abierto</td>\n",
       "      <td>CENTRO</td>\n",
       "      <td>SOL</td>\n",
       "      <td>COMERCIO AL POR MAYOR Y AL POR MENOR; REPARACI...</td>\n",
       "      <td>COMERCIO AL POR MENOR, EXCEPTO DE VEHICULOS DE...</td>\n",
       "      <td>COMERCIO AL POR MENOR DE PASTELERIA, CONFITERI...</td>\n",
       "    </tr>\n",
       "  </tbody>\n",
       "</table>\n",
       "</div>"
      ],
      "text/plain": [
       "    id_local desc_situacion_local   desc_distrito_local     desc_barrio_local  \\\n",
       "0   10000003              Abierto  CENTRO                JUSTICIA               \n",
       "45  10000003              Abierto  CENTRO                JUSTICIA               \n",
       "2   10000071              Abierto  CENTRO                SOL                    \n",
       "64  10000071              Abierto  CENTRO                SOL                    \n",
       "55  10000102              Abierto  CENTRO                SOL                    \n",
       "\n",
       "                                         desc_seccion  \\\n",
       "0                                          HOSTELERIA   \n",
       "45                                         HOSTELERIA   \n",
       "2                                          HOSTELERIA   \n",
       "64                                         HOSTELERIA   \n",
       "55  COMERCIO AL POR MAYOR Y AL POR MENOR; REPARACI...   \n",
       "\n",
       "                                        desc_division  \\\n",
       "0                      SERVICIOS DE COMIDAS Y BEBIDAS   \n",
       "45                     SERVICIOS DE COMIDAS Y BEBIDAS   \n",
       "2                      SERVICIOS DE COMIDAS Y BEBIDAS   \n",
       "64                     SERVICIOS DE COMIDAS Y BEBIDAS   \n",
       "55  COMERCIO AL POR MENOR, EXCEPTO DE VEHICULOS DE...   \n",
       "\n",
       "                                        desc_epigrafe  \n",
       "0                                           CAFETERIA  \n",
       "45                                    BAR RESTAURANTE  \n",
       "2                                         RESTAURANTE  \n",
       "64                                          CAFETERIA  \n",
       "55  COMERCIO AL POR MENOR DE PASTELERIA, CONFITERI...  "
      ]
     },
     "execution_count": 14,
     "metadata": {},
     "output_type": "execute_result"
    }
   ],
   "source": [
    "dup_df = df[dup].sort_values('id_local')\n",
    "dup_df.head()"
   ]
  },
  {
   "cell_type": "markdown",
   "metadata": {},
   "source": [
    "We check the 15 most common activities of the duplicated venues"
   ]
  },
  {
   "cell_type": "code",
   "execution_count": 15,
   "metadata": {},
   "outputs": [
    {
     "data": {
      "text/plain": [
       "CAFETERIA                                                                                                                                 1276\n",
       "COMERCIO AL POR MENOR EN ESTABLECIMIENTOS NO ESPECIALIZADOS, CON PREDOMINIO EN PRODUCTOS ALIMENTICIOS, BEBIDAS Y TABACO (AUTOSERVICIO)     978\n",
       "CENTRO DE ESTETICA                                                                                                                         919\n",
       "SERVICIOS DE COMEDOR EN CENTROS EDUCATIVOS Y CENTROS DE CUIDADO INFANTIL                                                                   885\n",
       "SERVICIO DE PELUQUERIA                                                                                                                     840\n",
       "COMERCIO AL POR MENOR DE PAN Y PRODUCTOS DE PANADERIA Y BOLLERIA CON OBRADOR                                                               737\n",
       "COMERCIO AL POR MENOR DE FRUTAS Y HORTALIZAS SIN OBRADOR                                                                                   706\n",
       "ESCUELAS INFANTILES DE PRIMER CICLO                                                                                                        617\n",
       "OTRO COMERCIO AL POR MENOR DE PRODUCTOS ALIMENTICIOS (PERECEDEROS Y NO PERECEDEROS) CON VENDEDOR N.C.O.P.                                  605\n",
       "COMERCIO AL POR MENOR DE CHARCUTERIA                                                                                                       598\n",
       "COMERCIO AL POR MENOR DE PRODUCTOS DE PRECIO UNICO, BAZARES Y ASIMILABLES                                                                  497\n",
       "COMERCIO AL POR MENOR DE CARNICERIA                                                                                                        487\n",
       "COMERCIO AL POR MENOR DE PRENDAS DE VESTIR EN ESTABLECIMIENTOS ESPECIALIZADOS                                                              458\n",
       "COMERCIO AL POR MENOR DE PAN Y PRODUCTOS DE PANADERIA Y BOLLERIA SIN OBRADOR                                                               451\n",
       "COMERCIO AL POR MENOR DE PRODUCTOS ALIMENTICIOS NO PERECEDEROS ENVASADOS                                                                   434\n",
       "Name: desc_epigrafe, dtype: int64"
      ]
     },
     "execution_count": 15,
     "metadata": {},
     "output_type": "execute_result"
    }
   ],
   "source": [
    "dup_df['desc_epigrafe'].value_counts().head(15)"
   ]
  },
  {
   "cell_type": "markdown",
   "metadata": {},
   "source": [
    "We think that the first row correspond to the primary activity that the venue performs, so we decide to keep them. Let's check the activities."
   ]
  },
  {
   "cell_type": "code",
   "execution_count": 16,
   "metadata": {},
   "outputs": [
    {
     "data": {
      "text/plain": [
       "CAFETERIA                                                                                                                                 746\n",
       "CENTRO DE ESTETICA                                                                                                                        654\n",
       "COMERCIO AL POR MENOR EN ESTABLECIMIENTOS NO ESPECIALIZADOS, CON PREDOMINIO EN PRODUCTOS ALIMENTICIOS, BEBIDAS Y TABACO (AUTOSERVICIO)    485\n",
       "COMERCIO AL POR MENOR DE CHARCUTERIA                                                                                                      447\n",
       "COMERCIO AL POR MENOR DE FRUTAS Y HORTALIZAS SIN OBRADOR                                                                                  435\n",
       "COMERCIO AL POR MENOR DE PAN Y PRODUCTOS DE PANADERIA Y BOLLERIA CON OBRADOR                                                              428\n",
       "SERVICIOS DE COMEDOR EN CENTROS EDUCATIVOS Y CENTROS DE CUIDADO INFANTIL                                                                  398\n",
       "ESCUELAS INFANTILES DE PRIMER CICLO                                                                                                       377\n",
       "OTRO COMERCIO AL POR MENOR DE PRODUCTOS ALIMENTICIOS (PERECEDEROS Y NO PERECEDEROS) CON VENDEDOR N.C.O.P.                                 368\n",
       "COMERCIO AL POR MENOR DE CARNICERIA                                                                                                       322\n",
       "SERVICIO DE PELUQUERIA                                                                                                                    306\n",
       "COMERCIO AL POR MENOR DE PRODUCTOS DE PRECIO UNICO, BAZARES Y ASIMILABLES                                                                 295\n",
       "COMERCIO AL POR MENOR DE PAN Y PRODUCTOS DE PANADERIA Y BOLLERIA SIN OBRADOR                                                              284\n",
       "COMERCIO AL POR MENOR DE AVES, HUEVOS Y CAZA SIN OBRADOR                                                                                  240\n",
       "COMERCIO AL POR MENOR DE PRENDAS DE VESTIR EN ESTABLECIMIENTOS ESPECIALIZADOS                                                             235\n",
       "Name: desc_epigrafe, dtype: int64"
      ]
     },
     "execution_count": 16,
     "metadata": {},
     "output_type": "execute_result"
    }
   ],
   "source": [
    "dup = df.duplicated('id_local', keep='first')\n",
    "dup_df = df[dup]\n",
    "dup_df['desc_epigrafe'].value_counts().head(15)"
   ]
  },
  {
   "cell_type": "markdown",
   "metadata": {},
   "source": [
    "We see the activity 'SERVICIOS DE COMEDOR EN CENTROS EDUCATIVOS Y CENTROS DE CUIDADO INFANTIL' (catering service in schools and childcare centers) that actually is a secondary activity, so maybe the primary activities aren't in the first row. Let's see what happens in we keep the last duplicate rows."
   ]
  },
  {
   "cell_type": "code",
   "execution_count": 17,
   "metadata": {},
   "outputs": [
    {
     "data": {
      "text/plain": [
       "COMERCIO AL POR MENOR EN ESTABLECIMIENTOS NO ESPECIALIZADOS, CON PREDOMINIO EN PRODUCTOS ALIMENTICIOS, BEBIDAS Y TABACO (AUTOSERVICIO)    693\n",
       "CAFETERIA                                                                                                                                 677\n",
       "SERVICIO DE PELUQUERIA                                                                                                                    624\n",
       "SERVICIOS DE COMEDOR EN CENTROS EDUCATIVOS Y CENTROS DE CUIDADO INFANTIL                                                                  563\n",
       "COMERCIO AL POR MENOR DE PAN Y PRODUCTOS DE PANADERIA Y BOLLERIA CON OBRADOR                                                              504\n",
       "COMERCIO AL POR MENOR DE FRUTAS Y HORTALIZAS SIN OBRADOR                                                                                  481\n",
       "COMERCIO AL POR MENOR DE CHARCUTERIA                                                                                                      387\n",
       "COMERCIO AL POR MENOR DE CARNICERIA                                                                                                       376\n",
       "CENTRO DE ESTETICA                                                                                                                        334\n",
       "ESCUELAS INFANTILES DE PRIMER CICLO                                                                                                       323\n",
       "COMERCIO AL POR MENOR DE PRODUCTOS ALIMENTICIOS NO PERECEDEROS ENVASADOS                                                                  301\n",
       "COMERCIO AL POR MENOR DE PAN Y PRODUCTOS DE PANADERIA Y BOLLERIA SIN OBRADOR                                                              291\n",
       "OTRO COMERCIO AL POR MENOR DE PRODUCTOS ALIMENTICIOS (PERECEDEROS Y NO PERECEDEROS) CON VENDEDOR N.C.O.P.                                 288\n",
       "COMERCIO AL POR MENOR DE AVES, HUEVOS Y CAZA SIN OBRADOR                                                                                  266\n",
       "COMERCIO AL POR MENOR DE PRENDAS DE VESTIR EN ESTABLECIMIENTOS ESPECIALIZADOS                                                             239\n",
       "Name: desc_epigrafe, dtype: int64"
      ]
     },
     "execution_count": 17,
     "metadata": {},
     "output_type": "execute_result"
    }
   ],
   "source": [
    "dup = df.duplicated('id_local', keep='last')\n",
    "dup_df = df[dup]\n",
    "dup_df['desc_epigrafe'].value_counts().head(15)"
   ]
  },
  {
   "cell_type": "markdown",
   "metadata": {},
   "source": [
    "The value count of 'SERVICIOS DE COMEDOR EN CENTROS EDUCATIVOS Y CENTROS DE CUIDADO INFANTIL' is much higher, so we have to keep the first duplicated rows."
   ]
  },
  {
   "cell_type": "code",
   "execution_count": 18,
   "metadata": {},
   "outputs": [
    {
     "data": {
      "text/plain": [
       "SERVICIO DE PELUQUERIA                                                                                                                    4732\n",
       "BAR CON COCINA                                                                                                                            4183\n",
       "BAR RESTAURANTE                                                                                                                           4045\n",
       "COMERCIO AL POR MENOR DE PRENDAS DE VESTIR EN ESTABLECIMIENTOS ESPECIALIZADOS                                                             3953\n",
       "RESTAURANTE                                                                                                                               2448\n",
       "CAFETERIA                                                                                                                                 2337\n",
       "OTRO COMERCIO AL POR MENOR DE PRODUCTOS ALIMENTICIOS (PERECEDEROS Y NO PERECEDEROS) CON VENDEDOR N.C.O.P.                                 2091\n",
       "INTERMEDIACION MONETARIA: BANCOS, CAJAS DE AHORRO                                                                                         2083\n",
       "FARMACIA                                                                                                                                  1849\n",
       "ACTIVIDADES ADMINISTRATIVAS Y AUXILIARES DE OFICINA Y SERVICIOS DE REPROGRAFIA                                                            1841\n",
       "COMERCIO AL POR MENOR EN ESTABLECIMIENTOS NO ESPECIALIZADOS, CON PREDOMINIO EN PRODUCTOS ALIMENTICIOS, BEBIDAS Y TABACO (AUTOSERVICIO)    1729\n",
       "COMERCIO AL POR MENOR DE FRUTAS Y HORTALIZAS SIN OBRADOR                                                                                  1702\n",
       "ENSEÑANZA NO REGLADA (DEPORTIVA Y RECREATIVA, CULTURAL, CLASES DE RECUPERACION, INFORMATICA)                                              1651\n",
       "TALLER DE REPARACION DE AUTOMOVILES ESPECIALIZADO EN MECANICA Y ELECTRICIDAD                                                              1487\n",
       "BAR SIN COCINA                                                                                                                            1445\n",
       "Name: desc_epigrafe, dtype: int64"
      ]
     },
     "execution_count": 18,
     "metadata": {},
     "output_type": "execute_result"
    }
   ],
   "source": [
    "df = df.drop_duplicates('id_local', keep='first', inplace=False)\n",
    "df['desc_epigrafe'].value_counts().head(15)"
   ]
  },
  {
   "cell_type": "markdown",
   "metadata": {},
   "source": [
    "When we check the descriptions of the most common activities, we find a few problems:\n",
    "- Some are too long.\n",
    "- Others are quite similar, like 'bar', 'bar con cocina' (bar with kitchen), 'bar sin cocina' (bar without kitchen), 'restaurant', 'bar restaurant'.\n",
    "So we have to unify and translate the descriptions. To do that we create a dictionary called 'mappings'."
   ]
  },
  {
   "cell_type": "code",
   "execution_count": 19,
   "metadata": {},
   "outputs": [],
   "source": [
    "mappings = {'SERVICIO DE PELUQUERIA':'HAIRDRESSER', \n",
    "            'COMERCIO AL POR MENOR DE PRENDAS DE VESTIR EN ESTABLECIMIENTOS ESPECIALIZADOS':'CLOTHING STORE',\n",
    "            'BAR CON COCINA':'BAR',\n",
    "            'BAR RESTAURANTE':'RESTAURANTE',\n",
    "            'OTRO COMERCIO AL POR MENOR DE PRODUCTOS ALIMENTICIOS (PERECEDEROS Y NO PERECEDEROS) CON VENDEDOR N.C.O.P.':'FOOD STORE',\n",
    "            'INTERMEDIACION MONETARIA: BANCOS, CAJAS DE AHORRO':'BANK',\n",
    "            'ACTIVIDADES ADMINISTRATIVAS Y AUXILIARES DE OFICINA Y SERVICIOS DE REPROGRAFIA':'OFFICE',\n",
    "            'COMERCIO AL POR MENOR EN ESTABLECIMIENTOS NO ESPECIALIZADOS, CON PREDOMINIO EN PRODUCTOS ALIMENTICIOS, BEBIDAS Y TABACO (AUTOSERVICIO)':'SUPERMARKET',\n",
    "            'COMERCIO AL POR MENOR DE FRUTAS Y HORTALIZAS SIN OBRADOR':'FRUIT STORE',\n",
    "            \"ENSEÑANZA NO REGLADA (DEPORTIVA Y RECREATIVA, CULTURAL, CLASES DE RECUPERACION, INFORMATICA)\":'ACADEMY',\n",
    "            'TALLER DE REPARACION DE AUTOMOVILES ESPECIALIZADO EN MECANICA Y ELECTRICIDAD':'CAR WORKSHOP',\n",
    "            'INSTALACIONES ELECTRICAS, DE FONTANERIA Y OTRAS EN OBRAS DE CONSTRUCCION':'PLUMBING AND ELECTRICAL INSTALLATIONS',\n",
    "            'COMERCIO AL POR MENOR DE PRODUCTOS DE PRECIO UNICO, BAZARES Y ASIMILABLES':'EURO STORE',\n",
    "            'FARMACIA':'PHARMACY',\n",
    "            'BAR SIN COCINA':'BAR',\n",
    "            'CENTRO DE ESTETICA':'AESTHETIC CENTER'}"
   ]
  },
  {
   "cell_type": "code",
   "execution_count": 20,
   "metadata": {},
   "outputs": [],
   "source": [
    "locales = df.copy()\n",
    "locales['desc_epigrafe'] = locales['desc_epigrafe'].replace(mappings)"
   ]
  },
  {
   "cell_type": "code",
   "execution_count": 21,
   "metadata": {},
   "outputs": [
    {
     "data": {
      "text/plain": [
       "RESTAURANTE                              6493\n",
       "BAR                                      5628\n",
       "HAIRDRESSER                              4732\n",
       "CLOTHING STORE                           3953\n",
       "CAFETERIA                                2337\n",
       "FOOD STORE                               2091\n",
       "BANK                                     2083\n",
       "PHARMACY                                 1849\n",
       "OFFICE                                   1841\n",
       "SUPERMARKET                              1729\n",
       "FRUIT STORE                              1702\n",
       "ACADEMY                                  1651\n",
       "CAR WORKSHOP                             1487\n",
       "PLUMBING AND ELECTRICAL INSTALLATIONS    1436\n",
       "AESTHETIC CENTER                         1245\n",
       "Name: desc_epigrafe, dtype: int64"
      ]
     },
     "execution_count": 21,
     "metadata": {},
     "output_type": "execute_result"
    }
   ],
   "source": [
    "locales['desc_epigrafe'].value_counts().head(15)"
   ]
  },
  {
   "cell_type": "code",
   "execution_count": 23,
   "metadata": {},
   "outputs": [
    {
     "data": {
      "text/plain": [
       "433"
      ]
     },
     "execution_count": 23,
     "metadata": {},
     "output_type": "execute_result"
    }
   ],
   "source": [
    "len(locales['desc_epigrafe'].unique())"
   ]
  },
  {
   "cell_type": "markdown",
   "metadata": {},
   "source": [
    "The classification of the activities that perform the venues is based on the Epigraphs of economic activity. It has a hierarchical structure of sections, divisions and activities. We have 433 unique activities, too many to check them all, so we start checking the sections."
   ]
  },
  {
   "cell_type": "code",
   "execution_count": 24,
   "metadata": {},
   "outputs": [
    {
     "data": {
      "text/plain": [
       "COMERCIO AL POR MAYOR Y AL POR MENOR; REPARACI0N DE VEHICULOS DE MOTOR Y MOTOCICLETAS     39102\n",
       "HOSTELERIA                                                                                18340\n",
       "OTROS SERVICIOS                                                                           10810\n",
       "ACTIVIDADES SANITARIAS Y DE SERVICIOS SOCIALES                                             4134\n",
       "EDUCACI0N                                                                                  3716\n",
       "ACTIVIDADES ADMINISTRATIVAS Y SERVICIOS AUXLIARES                                          3170\n",
       "INDUSTRIA MANUFACTURERA                                                                    2984\n",
       "CONSTRUCCI0N                                                                               2785\n",
       "ACTIVIDADES PROFESIONALES, CIENTIFICAS Y TECNICAS                                          2781\n",
       "TRANSPORTE Y ALMACENAMIENTO                                                                2675\n",
       "ACTIVIDADES FINANCIERAS Y DE SEGUROS                                                       2650\n",
       "ACTIVIDADES ARTISTICAS, RECREATIVAS Y DE ENTRETENIMIENTO                                   2592\n",
       "INFORMACI0N Y COMUNICACIONES                                                               1696\n",
       "SIN ACTIVIDAD                                                                              1201\n",
       "ACTIVIDADES INMOBILIARIAS                                                                   998\n",
       "ADMINISTRACI0N PUBLICA Y DEFENSA; SEGURIDAD SOCIAL OBLIGATORIA                              700\n",
       "ACTIVIDADES DE ORGANIZACIONES Y ORGANISMOS EXTRATERRITORIALES                               233\n",
       "SUMINISTRO DE ENERGIA ELECTRICA, GAS, VAPOR Y AIRE ACONDICIONADO                            107\n",
       "SUMINISTRO DE AGUA, ACTIVIDADES DE SANEAMIENTO, GESTI0N DE RESIDUOS Y DESCONTAMINACI0N       72\n",
       "AGRICULTURA, GANADERIA, SILVICULTURA Y PESCA                                                 12\n",
       "INDUSTRIAS EXTRACTIVAS                                                                        3\n",
       "Name: desc_seccion, dtype: int64"
      ]
     },
     "execution_count": 24,
     "metadata": {},
     "output_type": "execute_result"
    }
   ],
   "source": [
    "locales['desc_seccion'].value_counts()"
   ]
  },
  {
   "cell_type": "markdown",
   "metadata": {},
   "source": [
    "One of the sections is 'Sin actividad', that means 'without activity'. We are not interested in venues without activity, so we drop the rows that contain this section."
   ]
  },
  {
   "cell_type": "code",
   "execution_count": 25,
   "metadata": {},
   "outputs": [],
   "source": [
    "locales= locales[locales['desc_seccion']!= 'SIN ACTIVIDAD']"
   ]
  },
  {
   "cell_type": "code",
   "execution_count": 26,
   "metadata": {},
   "outputs": [
    {
     "data": {
      "text/plain": [
       "431"
      ]
     },
     "execution_count": 26,
     "metadata": {},
     "output_type": "execute_result"
    }
   ],
   "source": [
    "len(locales['desc_epigrafe'].unique())"
   ]
  },
  {
   "cell_type": "markdown",
   "metadata": {},
   "source": [
    "If we check again the number of unique activities, we see that now we have 431 instead of 433. Let's have a look now to the neighborhoods column, 'desc_barrio_local'."
   ]
  },
  {
   "cell_type": "code",
   "execution_count": 22,
   "metadata": {},
   "outputs": [
    {
     "data": {
      "text/html": [
       "<div>\n",
       "<style scoped>\n",
       "    .dataframe tbody tr th:only-of-type {\n",
       "        vertical-align: middle;\n",
       "    }\n",
       "\n",
       "    .dataframe tbody tr th {\n",
       "        vertical-align: top;\n",
       "    }\n",
       "\n",
       "    .dataframe thead th {\n",
       "        text-align: right;\n",
       "    }\n",
       "</style>\n",
       "<table border=\"1\" class=\"dataframe\">\n",
       "  <thead>\n",
       "    <tr style=\"text-align: right;\">\n",
       "      <th></th>\n",
       "      <th>id_local</th>\n",
       "      <th>desc_situacion_local</th>\n",
       "      <th>desc_distrito_local</th>\n",
       "      <th>desc_barrio_local</th>\n",
       "      <th>desc_seccion</th>\n",
       "      <th>desc_division</th>\n",
       "      <th>desc_epigrafe</th>\n",
       "    </tr>\n",
       "  </thead>\n",
       "  <tbody>\n",
       "    <tr>\n",
       "      <td>136110</td>\n",
       "      <td>270531494</td>\n",
       "      <td>Abierto</td>\n",
       "      <td>CARABANCHEL</td>\n",
       "      <td>ABRANTES</td>\n",
       "      <td>COMERCIO AL POR MAYOR Y AL POR MENOR; REPARACI...</td>\n",
       "      <td>COMERCIO AL POR MAYOR E INTERMEDIARIOS DEL COM...</td>\n",
       "      <td>COMERCIO AL POR MAYOR DE MATERIAL Y APARATOS E...</td>\n",
       "    </tr>\n",
       "    <tr>\n",
       "      <td>5516</td>\n",
       "      <td>110002333</td>\n",
       "      <td>Abierto</td>\n",
       "      <td>CARABANCHEL</td>\n",
       "      <td>ABRANTES</td>\n",
       "      <td>HOSTELERIA</td>\n",
       "      <td>SERVICIOS DE COMIDAS Y BEBIDAS</td>\n",
       "      <td>RESTAURANTE</td>\n",
       "    </tr>\n",
       "    <tr>\n",
       "      <td>128579</td>\n",
       "      <td>270153885</td>\n",
       "      <td>Abierto</td>\n",
       "      <td>CARABANCHEL</td>\n",
       "      <td>ABRANTES</td>\n",
       "      <td>COMERCIO AL POR MAYOR Y AL POR MENOR; REPARACI...</td>\n",
       "      <td>COMERCIO AL POR MENOR, EXCEPTO DE VEHICULOS DE...</td>\n",
       "      <td>COMERCIO AL POR MENOR DE PAN Y PRODUCTOS DE PA...</td>\n",
       "    </tr>\n",
       "    <tr>\n",
       "      <td>128578</td>\n",
       "      <td>270153877</td>\n",
       "      <td>Abierto</td>\n",
       "      <td>CARABANCHEL</td>\n",
       "      <td>ABRANTES</td>\n",
       "      <td>OTROS SERVICIOS</td>\n",
       "      <td>REPARACI0N DE ORDENADORES, EFECTOS PERSONALES ...</td>\n",
       "      <td>REPARACION DE CALZADO</td>\n",
       "    </tr>\n",
       "    <tr>\n",
       "      <td>128576</td>\n",
       "      <td>270153748</td>\n",
       "      <td>Abierto</td>\n",
       "      <td>CARABANCHEL</td>\n",
       "      <td>ABRANTES</td>\n",
       "      <td>COMERCIO AL POR MAYOR Y AL POR MENOR; REPARACI...</td>\n",
       "      <td>COMERCIO AL POR MENOR, EXCEPTO DE VEHICULOS DE...</td>\n",
       "      <td>COMERCIO AL POR MENOR DE CARNICERIA</td>\n",
       "    </tr>\n",
       "  </tbody>\n",
       "</table>\n",
       "</div>"
      ],
      "text/plain": [
       "         id_local desc_situacion_local   desc_distrito_local  \\\n",
       "136110  270531494              Abierto  CARABANCHEL            \n",
       "5516    110002333              Abierto  CARABANCHEL            \n",
       "128579  270153885              Abierto  CARABANCHEL            \n",
       "128578  270153877              Abierto  CARABANCHEL            \n",
       "128576  270153748              Abierto  CARABANCHEL            \n",
       "\n",
       "           desc_barrio_local  \\\n",
       "136110  ABRANTES               \n",
       "5516    ABRANTES               \n",
       "128579  ABRANTES               \n",
       "128578  ABRANTES               \n",
       "128576  ABRANTES               \n",
       "\n",
       "                                             desc_seccion  \\\n",
       "136110  COMERCIO AL POR MAYOR Y AL POR MENOR; REPARACI...   \n",
       "5516                                           HOSTELERIA   \n",
       "128579  COMERCIO AL POR MAYOR Y AL POR MENOR; REPARACI...   \n",
       "128578                                    OTROS SERVICIOS   \n",
       "128576  COMERCIO AL POR MAYOR Y AL POR MENOR; REPARACI...   \n",
       "\n",
       "                                            desc_division  \\\n",
       "136110  COMERCIO AL POR MAYOR E INTERMEDIARIOS DEL COM...   \n",
       "5516                       SERVICIOS DE COMIDAS Y BEBIDAS   \n",
       "128579  COMERCIO AL POR MENOR, EXCEPTO DE VEHICULOS DE...   \n",
       "128578  REPARACI0N DE ORDENADORES, EFECTOS PERSONALES ...   \n",
       "128576  COMERCIO AL POR MENOR, EXCEPTO DE VEHICULOS DE...   \n",
       "\n",
       "                                            desc_epigrafe  \n",
       "136110  COMERCIO AL POR MAYOR DE MATERIAL Y APARATOS E...  \n",
       "5516                                          RESTAURANTE  \n",
       "128579  COMERCIO AL POR MENOR DE PAN Y PRODUCTOS DE PA...  \n",
       "128578                              REPARACION DE CALZADO  \n",
       "128576                COMERCIO AL POR MENOR DE CARNICERIA  "
      ]
     },
     "execution_count": 22,
     "metadata": {},
     "output_type": "execute_result"
    }
   ],
   "source": [
    "locales.sort_values('desc_barrio_local', ascending=True).head()"
   ]
  },
  {
   "cell_type": "code",
   "execution_count": 40,
   "metadata": {},
   "outputs": [
    {
     "data": {
      "text/plain": [
       "array(['JUSTICIA            ', 'PALACIO             ',\n",
       "       'SOL                 ', 'EMBAJADORES         ',\n",
       "       'CORTES              ', 'UNIVERSIDAD         ',\n",
       "       'PALOS DE MOGUER     ', 'IMPERIAL            ',\n",
       "       'DELICIAS            ', 'CHOPERA             ',\n",
       "       'ACACIAS             ', 'LEGAZPI             ',\n",
       "       'ATOCHA              ', 'IBIZA               ',\n",
       "       'PACIFICO            ', 'LOS JERONIMOS       ',\n",
       "       'NIÑO JESUS          ', 'ADELFAS             ',\n",
       "       'ESTRELLA            ', 'RECOLETOS           ',\n",
       "       'FUENTE DEL BERRO    ', 'LISTA               ',\n",
       "       'GOYA                ', 'GUINDALERA          ',\n",
       "       'CASTELLANA          ', 'PROSPERIDAD         ',\n",
       "       'CIUDAD JARDIN       ', 'EL VISO             ',\n",
       "       'NUEVA ESPAÑA        ', 'HISPANOAMERICA      ',\n",
       "       'CASTILLA            ', 'CUATRO CAMINOS      ',\n",
       "       'CASTILLEJOS         ', 'ALMENARA            ',\n",
       "       'VALDEACEDERAS       ', 'BERRUGUETE          ',\n",
       "       'BELLAS VISTAS       ', 'TRAFALGAR           ',\n",
       "       'GAZTAMBIDE          ', 'ALMAGRO             ',\n",
       "       'RIOS ROSAS          ', 'VALLEHERMOSO        ',\n",
       "       'ARAPILES            ', 'LA PAZ              ',\n",
       "       'PEÑA GRANDE         ', 'EL PILAR            ',\n",
       "       'VALVERDE            ', 'MIRASIERRA          ',\n",
       "       'EL GOLOSO           ', 'CASA DE CAMPO       ',\n",
       "       'ARGUELLES           ', 'CIUDAD UNIVERSITARIA',\n",
       "       'VALDEZARZA          ', 'EL PLANTIO          ',\n",
       "       'ARAVACA             ', 'EL PARDO            ',\n",
       "       'VALDEMARIN          ', 'ALUCHE              ',\n",
       "       'CAMPAMENTO          ', 'LAS AGUILAS         ',\n",
       "       'PUERTA DEL ANGEL    ', 'LUCERO              ',\n",
       "       'LOS CARMENES        ', 'OPAÑEL              ',\n",
       "       'PUERTA BONITA       ', 'SAN ISIDRO          ',\n",
       "       'VISTA ALEGRE        ', 'COMILLAS            ',\n",
       "       'BUENAVISTA          ', 'ABRANTES            ',\n",
       "       'ZOFIO               ', 'ORCASUR             ',\n",
       "       'SAN FERMIN          ', 'MOSCARDO            ',\n",
       "       'ALMENDRALES         ', 'PRADOLONGO          ',\n",
       "       'ORCASITAS           ', 'SAN DIEGO           ',\n",
       "       'PALOMERAS SURESTE   ', 'PALOMERAS BAJAS     ',\n",
       "       'PORTAZGO            ', 'ENTREVIAS           ',\n",
       "       'NUMANCIA            ', 'FONTARRON           ',\n",
       "       'MARROQUINA          ', 'MEDIA LEGUA         ',\n",
       "       'PAVONES             ', 'HORCAJO             ',\n",
       "       'VINATEROS           ', 'QUINTANA            ',\n",
       "       'CONCEPCION          ', 'VENTAS              ',\n",
       "       'PUEBLO NUEVO        ', 'SAN PASCUAL         ',\n",
       "       'SAN JUAN BAUTISTA   ', 'COLINA              ',\n",
       "       'ATALAYA             ', 'COSTILLARES         ',\n",
       "       'PINAR DEL REY       ', 'CANILLAS            ',\n",
       "       'PIOVERA             ', 'VALDEFUENTES        ',\n",
       "       'PALOMAS             ', 'APOSTOL SANTIAGO    ',\n",
       "       'SAN ANDRES          ', 'LOS ROSALES         ',\n",
       "       'LOS ANGELES         ', 'SAN CRISTOBAL       ',\n",
       "       'CUATRO VIENTOS      ', 'BUTARQUE            ',\n",
       "       'CASCO H.VALLECAS    ', 'SANTA EUGENIA       ',\n",
       "       'ENSANCHE DE VALLECAS', 'CASCO H.VICALVARO   ', 'VALDEBERNARDO',\n",
       "       'VALDERRIVAS', 'SIMANCAS            ', 'HELLIN              ',\n",
       "       'CANILLEJAS          ', 'ROSAS               ',\n",
       "       'REJAS               ', 'AMPOSTA             ',\n",
       "       'ARCOS               ', 'EL SALVADOR         ',\n",
       "       'ALAMEDA DE OSUNA    ', 'TIMON               ',\n",
       "       'CASCO H.BARAJAS     ', 'AEROPUERTO          ',\n",
       "       'CORRALEJOS          ', 'FUENTELARREINA      ', 'EL CAÑAVERAL'],\n",
       "      dtype=object)"
      ]
     },
     "execution_count": 40,
     "metadata": {},
     "output_type": "execute_result"
    }
   ],
   "source": [
    "locales['desc_barrio_local'].unique()"
   ]
  },
  {
   "cell_type": "markdown",
   "metadata": {},
   "source": [
    "Most of the strings that represent the neighborhoods have a lot of extra white spaces, so we have to remove them. We also lower the strings to make them easier to combine with the other datasets used for the analysis."
   ]
  },
  {
   "cell_type": "code",
   "execution_count": 41,
   "metadata": {},
   "outputs": [
    {
     "data": {
      "text/plain": [
       "array(['abrantes', 'acacias', 'adelfas', 'aeropuerto', 'alameda de osuna',\n",
       "       'almagro', 'almenara', 'almendrales', 'aluche', 'amposta',\n",
       "       'apostol santiago', 'arapiles', 'aravaca', 'arcos', 'arguelles',\n",
       "       'atalaya', 'atocha', 'bellas vistas', 'berruguete', 'buenavista',\n",
       "       'butarque', 'campamento', 'canillas', 'canillejas',\n",
       "       'casa de campo', 'casco h.barajas', 'casco h.vallecas',\n",
       "       'casco h.vicalvaro', 'castellana', 'castilla', 'castillejos',\n",
       "       'chopera', 'ciudad jardin', 'ciudad universitaria', 'colina',\n",
       "       'comillas', 'concepcion', 'corralejos', 'cortes', 'costillares',\n",
       "       'cuatro caminos', 'cuatro vientos', 'delicias', 'el cañaveral',\n",
       "       'el goloso', 'el pardo', 'el pilar', 'el plantio', 'el salvador',\n",
       "       'el viso', 'embajadores', 'ensanche de vallecas', 'entrevias',\n",
       "       'estrella', 'fontarron', 'fuente del berro', 'fuentelarreina',\n",
       "       'gaztambide', 'goya', 'guindalera', 'hellin', 'hispanoamerica',\n",
       "       'horcajo', 'ibiza', 'imperial', 'justicia', 'la paz',\n",
       "       'las aguilas', 'legazpi', 'lista', 'los angeles', 'los carmenes',\n",
       "       'los jeronimos', 'los rosales', 'lucero', 'marroquina',\n",
       "       'media legua', 'mirasierra', 'moscardo', 'niño jesus',\n",
       "       'nueva españa', 'numancia', 'opañel', 'orcasitas', 'orcasur',\n",
       "       'pacifico', 'palacio', 'palomas', 'palomeras bajas',\n",
       "       'palomeras sureste', 'palos de moguer', 'pavones', 'peña grande',\n",
       "       'pinar del rey', 'piovera', 'portazgo', 'pradolongo',\n",
       "       'prosperidad', 'pueblo nuevo', 'puerta bonita', 'puerta del angel',\n",
       "       'quintana', 'recoletos', 'rejas', 'rios rosas', 'rosas',\n",
       "       'san andres', 'san cristobal', 'san diego', 'san fermin',\n",
       "       'san isidro', 'san juan bautista', 'san pascual', 'santa eugenia',\n",
       "       'simancas', 'sol', 'timon', 'trafalgar', 'universidad',\n",
       "       'valdeacederas', 'valdebernardo', 'valdefuentes', 'valdemarin',\n",
       "       'valderrivas', 'valdezarza', 'vallehermoso', 'valverde', 'ventas',\n",
       "       'vinateros', 'vista alegre', 'zofio'], dtype=object)"
      ]
     },
     "execution_count": 41,
     "metadata": {},
     "output_type": "execute_result"
    }
   ],
   "source": [
    "locales['desc_barrio_local'] = locales['desc_barrio_local'].str.lower()\n",
    "locales['desc_barrio_local'] = locales['desc_barrio_local'].str.strip()\n",
    "unique_barrios = locales['desc_barrio_local'].sort_values().unique()\n",
    "unique_barrios"
   ]
  },
  {
   "cell_type": "markdown",
   "metadata": {},
   "source": [
    "Let's have a look at the population data."
   ]
  },
  {
   "cell_type": "code",
   "execution_count": 42,
   "metadata": {},
   "outputs": [
    {
     "name": "stdout",
     "output_type": "stream",
     "text": [
      "['Distritos - Barrios', 'Secciones']\n"
     ]
    }
   ],
   "source": [
    "file = '31105dbs.xlsx'\n",
    "xl = pd.ExcelFile(file)\n",
    "print(xl.sheet_names)"
   ]
  },
  {
   "cell_type": "code",
   "execution_count": 43,
   "metadata": {},
   "outputs": [
    {
     "data": {
      "text/html": [
       "<div>\n",
       "<style scoped>\n",
       "    .dataframe tbody tr th:only-of-type {\n",
       "        vertical-align: middle;\n",
       "    }\n",
       "\n",
       "    .dataframe tbody tr th {\n",
       "        vertical-align: top;\n",
       "    }\n",
       "\n",
       "    .dataframe thead th {\n",
       "        text-align: right;\n",
       "    }\n",
       "</style>\n",
       "<table border=\"1\" class=\"dataframe\">\n",
       "  <thead>\n",
       "    <tr style=\"text-align: right;\">\n",
       "      <th></th>\n",
       "      <th>barrios</th>\n",
       "      <th>Edad media de la población</th>\n",
       "      <th>Porcentaje de población menor de 18 años</th>\n",
       "      <th>Porcentaje de población de 65 y más años</th>\n",
       "      <th>Tamaño medio del hogar</th>\n",
       "      <th>Porcentaje de hogares unipersonales</th>\n",
       "      <th>Población</th>\n",
       "    </tr>\n",
       "  </thead>\n",
       "  <tbody>\n",
       "    <tr>\n",
       "      <td>0</td>\n",
       "      <td>011. Palacio</td>\n",
       "      <td>45.105190</td>\n",
       "      <td>10.001047</td>\n",
       "      <td>37.284051</td>\n",
       "      <td>1.954046</td>\n",
       "      <td>47.116254</td>\n",
       "      <td>21483.0</td>\n",
       "    </tr>\n",
       "    <tr>\n",
       "      <td>1</td>\n",
       "      <td>012. Embajadores</td>\n",
       "      <td>42.588063</td>\n",
       "      <td>10.236172</td>\n",
       "      <td>29.897280</td>\n",
       "      <td>2.016749</td>\n",
       "      <td>47.211251</td>\n",
       "      <td>43312.0</td>\n",
       "    </tr>\n",
       "    <tr>\n",
       "      <td>2</td>\n",
       "      <td>013. Cortes</td>\n",
       "      <td>44.603419</td>\n",
       "      <td>8.746671</td>\n",
       "      <td>32.939221</td>\n",
       "      <td>1.907738</td>\n",
       "      <td>49.132435</td>\n",
       "      <td>10092.0</td>\n",
       "    </tr>\n",
       "    <tr>\n",
       "      <td>3</td>\n",
       "      <td>014. Justicia</td>\n",
       "      <td>43.724197</td>\n",
       "      <td>10.356446</td>\n",
       "      <td>32.177076</td>\n",
       "      <td>1.945774</td>\n",
       "      <td>49.133641</td>\n",
       "      <td>15886.0</td>\n",
       "    </tr>\n",
       "    <tr>\n",
       "      <td>4</td>\n",
       "      <td>015. Universidad</td>\n",
       "      <td>43.640620</td>\n",
       "      <td>9.423621</td>\n",
       "      <td>32.220221</td>\n",
       "      <td>1.932032</td>\n",
       "      <td>48.727863</td>\n",
       "      <td>29749.0</td>\n",
       "    </tr>\n",
       "  </tbody>\n",
       "</table>\n",
       "</div>"
      ],
      "text/plain": [
       "               barrios  Edad media de la población  \\\n",
       "0         011. Palacio                   45.105190   \n",
       "1     012. Embajadores                   42.588063   \n",
       "2          013. Cortes                   44.603419   \n",
       "3        014. Justicia                   43.724197   \n",
       "4     015. Universidad                   43.640620   \n",
       "\n",
       "   Porcentaje de población menor de 18 años  \\\n",
       "0                                 10.001047   \n",
       "1                                 10.236172   \n",
       "2                                  8.746671   \n",
       "3                                 10.356446   \n",
       "4                                  9.423621   \n",
       "\n",
       "   Porcentaje de población de 65 y más años  Tamaño medio del hogar  \\\n",
       "0                                 37.284051                1.954046   \n",
       "1                                 29.897280                2.016749   \n",
       "2                                 32.939221                1.907738   \n",
       "3                                 32.177076                1.945774   \n",
       "4                                 32.220221                1.932032   \n",
       "\n",
       "   Porcentaje de hogares unipersonales  Población  \n",
       "0                            47.116254    21483.0  \n",
       "1                            47.211251    43312.0  \n",
       "2                            49.132435    10092.0  \n",
       "3                            49.133641    15886.0  \n",
       "4                            48.727863    29749.0  "
      ]
     },
     "execution_count": 43,
     "metadata": {},
     "output_type": "execute_result"
    }
   ],
   "source": [
    "df = xl.parse('Distritos - Barrios')\n",
    "df = df.drop('Unnamed: 0', axis=1)\n",
    "df.head()"
   ]
  },
  {
   "cell_type": "code",
   "execution_count": 44,
   "metadata": {},
   "outputs": [
    {
     "data": {
      "text/plain": [
       "Index(['barrios', 'Edad media de la población',\n",
       "       'Porcentaje de población menor de 18 años',\n",
       "       'Porcentaje de población de 65 y más años', 'Tamaño medio del hogar',\n",
       "       'Porcentaje de hogares unipersonales', 'Población'],\n",
       "      dtype='object')"
      ]
     },
     "execution_count": 44,
     "metadata": {},
     "output_type": "execute_result"
    }
   ],
   "source": [
    "df.columns"
   ]
  },
  {
   "cell_type": "markdown",
   "metadata": {},
   "source": [
    "Let's check the unique values for the 'barrios' (neighborhoods) column."
   ]
  },
  {
   "cell_type": "code",
   "execution_count": 45,
   "metadata": {},
   "outputs": [
    {
     "data": {
      "text/plain": [
       "array(['   011. Palacio', '   012. Embajadores', '   013. Cortes',\n",
       "       '   014. Justicia', '   015. Universidad', '   016. Sol',\n",
       "       '   021. Imperial', '   022. Acacias', '   023. Chopera',\n",
       "       '   024. Legazpi', '   025. Delicias', '   026. Palos de Moguer',\n",
       "       '   027. Atocha', '   031. Pacífico', '   032. Adelfas',\n",
       "       '   033. Estrella', '   034. Ibiza', '   035. Jerónimos',\n",
       "       '   036. Niño Jesús', '   041. Recoletos', '   042. Goya',\n",
       "       '   043. Fuente del Berro', '   044. Guindalera', '   045. Lista',\n",
       "       '   046. Castellana', '   051. El Viso', '   052. Prosperidad',\n",
       "       '   053. Ciudad Jardín', '   054. Hispanoamérica',\n",
       "       '   055. Nueva España', '   056. Castilla',\n",
       "       '   061. Bellas Vistas', '   062. Cuatro Caminos',\n",
       "       '   063. Castillejos', '   064. Almenara', '   065. Valdeacederas',\n",
       "       '   066. Berruguete', '   071. Gaztambide', '   072. Arapiles',\n",
       "       '   073. Trafalgar', '   074. Almagro', '   075. Ríos Rosas',\n",
       "       '   076. Vallehermoso', '   081. El Pardo',\n",
       "       '   082. Fuentelarreina', '   083. Peñagrande', '   084. Pilar',\n",
       "       '   085. La Paz', '   086. Valverde', '   087. Mirasierra',\n",
       "       '   088. El Goloso', '   091. Casa de Campo', '   092. Argüelles',\n",
       "       '   093. Ciudad Universitaria', '   094. Valdezarza',\n",
       "       '   095. Valdemarín', '   096. El Plantío', '   097. Aravaca',\n",
       "       '   101. Los Cármenes', '   102. Puerta del Angel',\n",
       "       '   103. Lucero', '   104. Aluche', '   105. Campamento',\n",
       "       '   106. Cuatro Vientos', '   107. Las Águilas',\n",
       "       '   111. Comillas', '   112. Opañel', '   113. San Isidro',\n",
       "       '   114. Vista Alegre', '   115. Puerta Bonita',\n",
       "       '   116. Buenavista', '   117. Abrantes', '   121. Orcasitas',\n",
       "       '   122. Orcasur', '   123. San Fermín', '   124. Almendrales',\n",
       "       '   125. Moscardó', '   126. Zofio', '   127. Pradolongo',\n",
       "       '   131. Entrevías', '   132. San Diego',\n",
       "       '   133. Palomeras Bajas', '   134. Palomeras Sureste',\n",
       "       '   135. Portazgo', '   136. Numancia', '   141. Pavones',\n",
       "       '   142. Horcajo', '   143. Marroquina', '   144. Media Legua',\n",
       "       '   145. Fontarrón', '   146. Vinateros', '   151. Ventas',\n",
       "       '   152. Pueblo Nuevo', '   153. Quintana', '   154. Concepción',\n",
       "       '   155. San Pascual', '   156. San Juan Bautista',\n",
       "       '   157. Colina', '   158. Atalaya', '   159. Costillares',\n",
       "       '   161. Palomas', '   162. Piovera', '   163. Canillas',\n",
       "       '   164. Pinar del Rey', '   165. Apóstol Santiago',\n",
       "       '   166. Valdefuentes', '   171. San Andrés',\n",
       "       '   172. San Cristóbal', '   173. Butarque', '   174. Los Rosales',\n",
       "       '   175. Los Ángeles', '   181. Casco Histórico de Vallecas',\n",
       "       '   182. Santa Eugenia', '   183. Ensanche de Vallecas',\n",
       "       '   191. Casco Histórico de Vicálvaro', '   192. Valdebernardo',\n",
       "       '   193. Valderrivas', '   194. El Cañaveral', '   201. Simancas',\n",
       "       '   202. Hellín', '   203. Amposta', '   204. Arcos',\n",
       "       '   205. Rosas', '   206. Rejas', '   207. Canillejas',\n",
       "       '   208. Salvador', '   211. Alameda de Osuna',\n",
       "       '   212. Aeropuerto', '   213. Casco Histórico de Barajas',\n",
       "       '   214. Timón', '   215. Corralejos'], dtype=object)"
      ]
     },
     "execution_count": 45,
     "metadata": {},
     "output_type": "execute_result"
    }
   ],
   "source": [
    "df['barrios'].unique()"
   ]
  },
  {
   "cell_type": "markdown",
   "metadata": {},
   "source": [
    "In order to combine both datasets, we need that neighborhoods names look the same in both DataFrames. We can lower the strings and strip the white spaces and the numbers in the 'barrios' column, but for the rest of changes we will have to use the fuzzywuzzy library. To keep track of the changes we are going to add a new column to the DataFrame."
   ]
  },
  {
   "cell_type": "code",
   "execution_count": 46,
   "metadata": {},
   "outputs": [],
   "source": [
    "df['b'] = df['barrios'].str.lower()\n",
    "df['b'] = df['b'].str.strip()\n",
    "df.b = df.b.str.replace('[0-9]. ','')\n",
    "df.b = df.b.str.replace('[0-9]','')"
   ]
  },
  {
   "cell_type": "code",
   "execution_count": 47,
   "metadata": {},
   "outputs": [
    {
     "data": {
      "text/plain": [
       "array(['palacio', 'embajadores', 'cortes', 'justicia', 'universidad',\n",
       "       'sol', 'imperial', 'acacias', 'chopera', 'legazpi', 'delicias',\n",
       "       'palos de moguer', 'atocha', 'pacífico', 'adelfas', 'estrella',\n",
       "       'ibiza', 'jerónimos', 'niño jesús', 'recoletos', 'goya',\n",
       "       'fuente del berro', 'guindalera', 'lista', 'castellana', 'el viso',\n",
       "       'prosperidad', 'ciudad jardín', 'hispanoamérica', 'nueva españa',\n",
       "       'castilla', 'bellas vistas', 'cuatro caminos', 'castillejos',\n",
       "       'almenara', 'valdeacederas', 'berruguete', 'gaztambide',\n",
       "       'arapiles', 'trafalgar', 'almagro', 'ríos rosas', 'vallehermoso',\n",
       "       'el pardo', 'fuentelarreina', 'peñagrande', 'pilar', 'la paz',\n",
       "       'valverde', 'mirasierra', 'el goloso', 'casa de campo',\n",
       "       'argüelles', 'ciudad universitaria', 'valdezarza', 'valdemarín',\n",
       "       'el plantío', 'aravaca', 'los cármenes', 'puerta del angel',\n",
       "       'lucero', 'aluche', 'campamento', 'cuatro vientos', 'las águilas',\n",
       "       'comillas', 'opañel', 'san isidro', 'vista alegre',\n",
       "       'puerta bonita', 'buenavista', 'abrantes', 'orcasitas', 'orcasur',\n",
       "       'san fermín', 'almendrales', 'moscardó', 'zofio', 'pradolongo',\n",
       "       'entrevías', 'san diego', 'palomeras bajas', 'palomeras sureste',\n",
       "       'portazgo', 'numancia', 'pavones', 'horcajo', 'marroquina',\n",
       "       'media legua', 'fontarrón', 'vinateros', 'ventas', 'pueblo nuevo',\n",
       "       'quintana', 'concepción', 'san pascual', 'san juan bautista',\n",
       "       'colina', 'atalaya', 'costillares', 'palomas', 'piovera',\n",
       "       'canillas', 'pinar del rey', 'apóstol santiago', 'valdefuentes',\n",
       "       'san andrés', 'san cristóbal', 'butarque', 'los rosales',\n",
       "       'los ángeles', 'casco histórico de vallecas', 'santa eugenia',\n",
       "       'ensanche de vallecas', 'casco histórico de vicálvaro',\n",
       "       'valdebernardo', 'valderrivas', 'el cañaveral', 'simancas',\n",
       "       'hellín', 'amposta', 'arcos', 'rosas', 'rejas', 'canillejas',\n",
       "       'salvador', 'alameda de osuna', 'aeropuerto',\n",
       "       'casco histórico de barajas', 'timón', 'corralejos'], dtype=object)"
      ]
     },
     "execution_count": 47,
     "metadata": {},
     "output_type": "execute_result"
    }
   ],
   "source": [
    "df['b'].unique()"
   ]
  },
  {
   "cell_type": "code",
   "execution_count": 48,
   "metadata": {},
   "outputs": [
    {
     "data": {
      "text/html": [
       "<div>\n",
       "<style scoped>\n",
       "    .dataframe tbody tr th:only-of-type {\n",
       "        vertical-align: middle;\n",
       "    }\n",
       "\n",
       "    .dataframe tbody tr th {\n",
       "        vertical-align: top;\n",
       "    }\n",
       "\n",
       "    .dataframe thead th {\n",
       "        text-align: right;\n",
       "    }\n",
       "</style>\n",
       "<table border=\"1\" class=\"dataframe\">\n",
       "  <thead>\n",
       "    <tr style=\"text-align: right;\">\n",
       "      <th></th>\n",
       "      <th>barrios</th>\n",
       "      <th>Edad media de la población</th>\n",
       "      <th>Porcentaje de población menor de 18 años</th>\n",
       "      <th>Porcentaje de población de 65 y más años</th>\n",
       "      <th>Tamaño medio del hogar</th>\n",
       "      <th>Porcentaje de hogares unipersonales</th>\n",
       "      <th>Población</th>\n",
       "      <th>b</th>\n",
       "    </tr>\n",
       "  </thead>\n",
       "  <tbody>\n",
       "    <tr>\n",
       "      <td>0</td>\n",
       "      <td>011. Palacio</td>\n",
       "      <td>45.105190</td>\n",
       "      <td>10.001047</td>\n",
       "      <td>37.284051</td>\n",
       "      <td>1.954046</td>\n",
       "      <td>47.116254</td>\n",
       "      <td>21483.0</td>\n",
       "      <td>palacio</td>\n",
       "    </tr>\n",
       "    <tr>\n",
       "      <td>1</td>\n",
       "      <td>012. Embajadores</td>\n",
       "      <td>42.588063</td>\n",
       "      <td>10.236172</td>\n",
       "      <td>29.897280</td>\n",
       "      <td>2.016749</td>\n",
       "      <td>47.211251</td>\n",
       "      <td>43312.0</td>\n",
       "      <td>embajadores</td>\n",
       "    </tr>\n",
       "    <tr>\n",
       "      <td>2</td>\n",
       "      <td>013. Cortes</td>\n",
       "      <td>44.603419</td>\n",
       "      <td>8.746671</td>\n",
       "      <td>32.939221</td>\n",
       "      <td>1.907738</td>\n",
       "      <td>49.132435</td>\n",
       "      <td>10092.0</td>\n",
       "      <td>cortes</td>\n",
       "    </tr>\n",
       "    <tr>\n",
       "      <td>3</td>\n",
       "      <td>014. Justicia</td>\n",
       "      <td>43.724197</td>\n",
       "      <td>10.356446</td>\n",
       "      <td>32.177076</td>\n",
       "      <td>1.945774</td>\n",
       "      <td>49.133641</td>\n",
       "      <td>15886.0</td>\n",
       "      <td>justicia</td>\n",
       "    </tr>\n",
       "    <tr>\n",
       "      <td>4</td>\n",
       "      <td>015. Universidad</td>\n",
       "      <td>43.640620</td>\n",
       "      <td>9.423621</td>\n",
       "      <td>32.220221</td>\n",
       "      <td>1.932032</td>\n",
       "      <td>48.727863</td>\n",
       "      <td>29749.0</td>\n",
       "      <td>universidad</td>\n",
       "    </tr>\n",
       "  </tbody>\n",
       "</table>\n",
       "</div>"
      ],
      "text/plain": [
       "               barrios  Edad media de la población  \\\n",
       "0         011. Palacio                   45.105190   \n",
       "1     012. Embajadores                   42.588063   \n",
       "2          013. Cortes                   44.603419   \n",
       "3        014. Justicia                   43.724197   \n",
       "4     015. Universidad                   43.640620   \n",
       "\n",
       "   Porcentaje de población menor de 18 años  \\\n",
       "0                                 10.001047   \n",
       "1                                 10.236172   \n",
       "2                                  8.746671   \n",
       "3                                 10.356446   \n",
       "4                                  9.423621   \n",
       "\n",
       "   Porcentaje de población de 65 y más años  Tamaño medio del hogar  \\\n",
       "0                                 37.284051                1.954046   \n",
       "1                                 29.897280                2.016749   \n",
       "2                                 32.939221                1.907738   \n",
       "3                                 32.177076                1.945774   \n",
       "4                                 32.220221                1.932032   \n",
       "\n",
       "   Porcentaje de hogares unipersonales  Población            b  \n",
       "0                            47.116254    21483.0      palacio  \n",
       "1                            47.211251    43312.0  embajadores  \n",
       "2                            49.132435    10092.0       cortes  \n",
       "3                            49.133641    15886.0     justicia  \n",
       "4                            48.727863    29749.0  universidad  "
      ]
     },
     "execution_count": 48,
     "metadata": {},
     "output_type": "execute_result"
    }
   ],
   "source": [
    "df.head()"
   ]
  },
  {
   "cell_type": "markdown",
   "metadata": {},
   "source": [
    "Until now I've been replicating the code provided in the Datacamp course [Data Cleaning in Python](https://learn.datacamp.com/courses/data-cleaning-in-python), but in this case I think it can be used only if we have just a few categorical values, so I'm going to use the code provided in this excellent Medium [article](https://medium.com/analytics-vidhya/matching-messy-pandas-columns-with-fuzzywuzzy-4adda6c7994f) written by [Khalid EL MOULOUDI](https://github.com/kelmouloudi) to compare the array unique_barrios to df.b"
   ]
  },
  {
   "cell_type": "code",
   "execution_count": 49,
   "metadata": {},
   "outputs": [
    {
     "data": {
      "text/html": [
       "<div>\n",
       "<style scoped>\n",
       "    .dataframe tbody tr th:only-of-type {\n",
       "        vertical-align: middle;\n",
       "    }\n",
       "\n",
       "    .dataframe tbody tr th {\n",
       "        vertical-align: top;\n",
       "    }\n",
       "\n",
       "    .dataframe thead th {\n",
       "        text-align: right;\n",
       "    }\n",
       "</style>\n",
       "<table border=\"1\" class=\"dataframe\">\n",
       "  <thead>\n",
       "    <tr style=\"text-align: right;\">\n",
       "      <th></th>\n",
       "      <th>barrios</th>\n",
       "      <th>Edad media de la población</th>\n",
       "      <th>Porcentaje de población menor de 18 años</th>\n",
       "      <th>Porcentaje de población de 65 y más años</th>\n",
       "      <th>Tamaño medio del hogar</th>\n",
       "      <th>Porcentaje de hogares unipersonales</th>\n",
       "      <th>Población</th>\n",
       "      <th>b</th>\n",
       "      <th>u_barrios</th>\n",
       "      <th>similarity</th>\n",
       "    </tr>\n",
       "  </thead>\n",
       "  <tbody>\n",
       "    <tr>\n",
       "      <td>0</td>\n",
       "      <td>011. Palacio</td>\n",
       "      <td>45.105190</td>\n",
       "      <td>10.001047</td>\n",
       "      <td>37.284051</td>\n",
       "      <td>1.954046</td>\n",
       "      <td>47.116254</td>\n",
       "      <td>21483.0</td>\n",
       "      <td>palacio</td>\n",
       "      <td>palacio</td>\n",
       "      <td>100</td>\n",
       "    </tr>\n",
       "    <tr>\n",
       "      <td>1</td>\n",
       "      <td>012. Embajadores</td>\n",
       "      <td>42.588063</td>\n",
       "      <td>10.236172</td>\n",
       "      <td>29.897280</td>\n",
       "      <td>2.016749</td>\n",
       "      <td>47.211251</td>\n",
       "      <td>43312.0</td>\n",
       "      <td>embajadores</td>\n",
       "      <td>embajadores</td>\n",
       "      <td>100</td>\n",
       "    </tr>\n",
       "    <tr>\n",
       "      <td>2</td>\n",
       "      <td>013. Cortes</td>\n",
       "      <td>44.603419</td>\n",
       "      <td>8.746671</td>\n",
       "      <td>32.939221</td>\n",
       "      <td>1.907738</td>\n",
       "      <td>49.132435</td>\n",
       "      <td>10092.0</td>\n",
       "      <td>cortes</td>\n",
       "      <td>cortes</td>\n",
       "      <td>100</td>\n",
       "    </tr>\n",
       "    <tr>\n",
       "      <td>3</td>\n",
       "      <td>014. Justicia</td>\n",
       "      <td>43.724197</td>\n",
       "      <td>10.356446</td>\n",
       "      <td>32.177076</td>\n",
       "      <td>1.945774</td>\n",
       "      <td>49.133641</td>\n",
       "      <td>15886.0</td>\n",
       "      <td>justicia</td>\n",
       "      <td>justicia</td>\n",
       "      <td>100</td>\n",
       "    </tr>\n",
       "    <tr>\n",
       "      <td>4</td>\n",
       "      <td>015. Universidad</td>\n",
       "      <td>43.640620</td>\n",
       "      <td>9.423621</td>\n",
       "      <td>32.220221</td>\n",
       "      <td>1.932032</td>\n",
       "      <td>48.727863</td>\n",
       "      <td>29749.0</td>\n",
       "      <td>universidad</td>\n",
       "      <td>universidad</td>\n",
       "      <td>100</td>\n",
       "    </tr>\n",
       "  </tbody>\n",
       "</table>\n",
       "</div>"
      ],
      "text/plain": [
       "               barrios  Edad media de la población  \\\n",
       "0         011. Palacio                   45.105190   \n",
       "1     012. Embajadores                   42.588063   \n",
       "2          013. Cortes                   44.603419   \n",
       "3        014. Justicia                   43.724197   \n",
       "4     015. Universidad                   43.640620   \n",
       "\n",
       "   Porcentaje de población menor de 18 años  \\\n",
       "0                                 10.001047   \n",
       "1                                 10.236172   \n",
       "2                                  8.746671   \n",
       "3                                 10.356446   \n",
       "4                                  9.423621   \n",
       "\n",
       "   Porcentaje de población de 65 y más años  Tamaño medio del hogar  \\\n",
       "0                                 37.284051                1.954046   \n",
       "1                                 29.897280                2.016749   \n",
       "2                                 32.939221                1.907738   \n",
       "3                                 32.177076                1.945774   \n",
       "4                                 32.220221                1.932032   \n",
       "\n",
       "   Porcentaje de hogares unipersonales  Población            b    u_barrios  \\\n",
       "0                            47.116254    21483.0      palacio      palacio   \n",
       "1                            47.211251    43312.0  embajadores  embajadores   \n",
       "2                            49.132435    10092.0       cortes       cortes   \n",
       "3                            49.133641    15886.0     justicia     justicia   \n",
       "4                            48.727863    29749.0  universidad  universidad   \n",
       "\n",
       "   similarity  \n",
       "0         100  \n",
       "1         100  \n",
       "2         100  \n",
       "3         100  \n",
       "4         100  "
      ]
     },
     "execution_count": 49,
     "metadata": {},
     "output_type": "execute_result"
    }
   ],
   "source": [
    "from fuzzywuzzy import process\n",
    "\n",
    "u_barrios = []\n",
    "similarity = []\n",
    "\n",
    "for barrio in df.b:\n",
    "        ratio = process.extract( barrio, unique_barrios, limit=1)\n",
    "        u_barrios.append(ratio[0][0])\n",
    "        similarity.append(ratio[0][1])\n",
    "\n",
    "df['u_barrios'] = pd.Series(u_barrios)\n",
    "\n",
    "df['similarity'] = pd.Series(similarity)\n",
    "\n",
    "df.head()"
   ]
  },
  {
   "cell_type": "markdown",
   "metadata": {},
   "source": [
    "It looks like the process has worked. To make sure, we are going to sort df by the similarity values in ascending order."
   ]
  },
  {
   "cell_type": "code",
   "execution_count": 50,
   "metadata": {},
   "outputs": [
    {
     "data": {
      "text/html": [
       "<div>\n",
       "<style scoped>\n",
       "    .dataframe tbody tr th:only-of-type {\n",
       "        vertical-align: middle;\n",
       "    }\n",
       "\n",
       "    .dataframe tbody tr th {\n",
       "        vertical-align: top;\n",
       "    }\n",
       "\n",
       "    .dataframe thead th {\n",
       "        text-align: right;\n",
       "    }\n",
       "</style>\n",
       "<table border=\"1\" class=\"dataframe\">\n",
       "  <thead>\n",
       "    <tr style=\"text-align: right;\">\n",
       "      <th></th>\n",
       "      <th>barrios</th>\n",
       "      <th>Edad media de la población</th>\n",
       "      <th>Porcentaje de población menor de 18 años</th>\n",
       "      <th>Porcentaje de población de 65 y más años</th>\n",
       "      <th>Tamaño medio del hogar</th>\n",
       "      <th>Porcentaje de hogares unipersonales</th>\n",
       "      <th>Población</th>\n",
       "      <th>b</th>\n",
       "      <th>u_barrios</th>\n",
       "      <th>similarity</th>\n",
       "    </tr>\n",
       "  </thead>\n",
       "  <tbody>\n",
       "    <tr>\n",
       "      <td>17</td>\n",
       "      <td>035. Jerónimos</td>\n",
       "      <td>47.927343</td>\n",
       "      <td>12.834347</td>\n",
       "      <td>68.095180</td>\n",
       "      <td>2.468555</td>\n",
       "      <td>32.387270</td>\n",
       "      <td>6839.0</td>\n",
       "      <td>jerónimos</td>\n",
       "      <td>los jeronimos</td>\n",
       "      <td>79</td>\n",
       "    </tr>\n",
       "    <tr>\n",
       "      <td>111</td>\n",
       "      <td>181. Casco Histórico de Vallecas</td>\n",
       "      <td>35.822967</td>\n",
       "      <td>23.349857</td>\n",
       "      <td>24.491010</td>\n",
       "      <td>2.522078</td>\n",
       "      <td>29.613058</td>\n",
       "      <td>79171.0</td>\n",
       "      <td>casco histórico de vallecas</td>\n",
       "      <td>alameda de osuna</td>\n",
       "      <td>86</td>\n",
       "    </tr>\n",
       "    <tr>\n",
       "      <td>128</td>\n",
       "      <td>213. Casco Histórico de Barajas</td>\n",
       "      <td>43.863305</td>\n",
       "      <td>12.875224</td>\n",
       "      <td>44.230263</td>\n",
       "      <td>2.404861</td>\n",
       "      <td>30.878175</td>\n",
       "      <td>7249.0</td>\n",
       "      <td>casco histórico de barajas</td>\n",
       "      <td>alameda de osuna</td>\n",
       "      <td>86</td>\n",
       "    </tr>\n",
       "    <tr>\n",
       "      <td>114</td>\n",
       "      <td>191. Casco Histórico de Vicálvaro</td>\n",
       "      <td>37.776849</td>\n",
       "      <td>24.112848</td>\n",
       "      <td>30.713297</td>\n",
       "      <td>2.803763</td>\n",
       "      <td>21.019329</td>\n",
       "      <td>51026.0</td>\n",
       "      <td>casco histórico de vicálvaro</td>\n",
       "      <td>alameda de osuna</td>\n",
       "      <td>86</td>\n",
       "    </tr>\n",
       "    <tr>\n",
       "      <td>129</td>\n",
       "      <td>214. Timón</td>\n",
       "      <td>37.309253</td>\n",
       "      <td>22.377836</td>\n",
       "      <td>27.146370</td>\n",
       "      <td>2.642924</td>\n",
       "      <td>25.553290</td>\n",
       "      <td>10991.0</td>\n",
       "      <td>timón</td>\n",
       "      <td>timon</td>\n",
       "      <td>89</td>\n",
       "    </tr>\n",
       "  </tbody>\n",
       "</table>\n",
       "</div>"
      ],
      "text/plain": [
       "                                  barrios  Edad media de la población  \\\n",
       "17                         035. Jerónimos                   47.927343   \n",
       "111      181. Casco Histórico de Vallecas                   35.822967   \n",
       "128       213. Casco Histórico de Barajas                   43.863305   \n",
       "114     191. Casco Histórico de Vicálvaro                   37.776849   \n",
       "129                            214. Timón                   37.309253   \n",
       "\n",
       "     Porcentaje de población menor de 18 años  \\\n",
       "17                                  12.834347   \n",
       "111                                 23.349857   \n",
       "128                                 12.875224   \n",
       "114                                 24.112848   \n",
       "129                                 22.377836   \n",
       "\n",
       "     Porcentaje de población de 65 y más años  Tamaño medio del hogar  \\\n",
       "17                                  68.095180                2.468555   \n",
       "111                                 24.491010                2.522078   \n",
       "128                                 44.230263                2.404861   \n",
       "114                                 30.713297                2.803763   \n",
       "129                                 27.146370                2.642924   \n",
       "\n",
       "     Porcentaje de hogares unipersonales  Población  \\\n",
       "17                             32.387270     6839.0   \n",
       "111                            29.613058    79171.0   \n",
       "128                            30.878175     7249.0   \n",
       "114                            21.019329    51026.0   \n",
       "129                            25.553290    10991.0   \n",
       "\n",
       "                                b         u_barrios  similarity  \n",
       "17                      jerónimos     los jeronimos          79  \n",
       "111   casco histórico de vallecas  alameda de osuna          86  \n",
       "128    casco histórico de barajas  alameda de osuna          86  \n",
       "114  casco histórico de vicálvaro  alameda de osuna          86  \n",
       "129                         timón             timon          89  "
      ]
     },
     "execution_count": 50,
     "metadata": {},
     "output_type": "execute_result"
    }
   ],
   "source": [
    "df.sort_values(by='similarity', ascending=True).head()"
   ]
  },
  {
   "cell_type": "markdown",
   "metadata": {},
   "source": [
    "We have a problem with the neighborhoods that include 'casco histórico de' (Old Town) on their names. In the **desc_barrio_local** column 'histórico' is abbreviated ('h.') but not in **barrios** column. We need to replace 'histórico de ' with 'h.' and repeat the process."
   ]
  },
  {
   "cell_type": "code",
   "execution_count": 51,
   "metadata": {},
   "outputs": [],
   "source": [
    "df['b'] = df['b'].str.replace('histórico de ', 'h.')"
   ]
  },
  {
   "cell_type": "code",
   "execution_count": 52,
   "metadata": {},
   "outputs": [
    {
     "data": {
      "text/html": [
       "<div>\n",
       "<style scoped>\n",
       "    .dataframe tbody tr th:only-of-type {\n",
       "        vertical-align: middle;\n",
       "    }\n",
       "\n",
       "    .dataframe tbody tr th {\n",
       "        vertical-align: top;\n",
       "    }\n",
       "\n",
       "    .dataframe thead th {\n",
       "        text-align: right;\n",
       "    }\n",
       "</style>\n",
       "<table border=\"1\" class=\"dataframe\">\n",
       "  <thead>\n",
       "    <tr style=\"text-align: right;\">\n",
       "      <th></th>\n",
       "      <th>barrios</th>\n",
       "      <th>Edad media de la población</th>\n",
       "      <th>Porcentaje de población menor de 18 años</th>\n",
       "      <th>Porcentaje de población de 65 y más años</th>\n",
       "      <th>Tamaño medio del hogar</th>\n",
       "      <th>Porcentaje de hogares unipersonales</th>\n",
       "      <th>Población</th>\n",
       "      <th>b</th>\n",
       "      <th>u_barrios</th>\n",
       "      <th>similarity</th>\n",
       "    </tr>\n",
       "  </thead>\n",
       "  <tbody>\n",
       "    <tr>\n",
       "      <td>0</td>\n",
       "      <td>011. Palacio</td>\n",
       "      <td>45.105190</td>\n",
       "      <td>10.001047</td>\n",
       "      <td>37.284051</td>\n",
       "      <td>1.954046</td>\n",
       "      <td>47.116254</td>\n",
       "      <td>21483.0</td>\n",
       "      <td>palacio</td>\n",
       "      <td>palacio</td>\n",
       "      <td>100</td>\n",
       "    </tr>\n",
       "    <tr>\n",
       "      <td>1</td>\n",
       "      <td>012. Embajadores</td>\n",
       "      <td>42.588063</td>\n",
       "      <td>10.236172</td>\n",
       "      <td>29.897280</td>\n",
       "      <td>2.016749</td>\n",
       "      <td>47.211251</td>\n",
       "      <td>43312.0</td>\n",
       "      <td>embajadores</td>\n",
       "      <td>embajadores</td>\n",
       "      <td>100</td>\n",
       "    </tr>\n",
       "    <tr>\n",
       "      <td>2</td>\n",
       "      <td>013. Cortes</td>\n",
       "      <td>44.603419</td>\n",
       "      <td>8.746671</td>\n",
       "      <td>32.939221</td>\n",
       "      <td>1.907738</td>\n",
       "      <td>49.132435</td>\n",
       "      <td>10092.0</td>\n",
       "      <td>cortes</td>\n",
       "      <td>cortes</td>\n",
       "      <td>100</td>\n",
       "    </tr>\n",
       "    <tr>\n",
       "      <td>3</td>\n",
       "      <td>014. Justicia</td>\n",
       "      <td>43.724197</td>\n",
       "      <td>10.356446</td>\n",
       "      <td>32.177076</td>\n",
       "      <td>1.945774</td>\n",
       "      <td>49.133641</td>\n",
       "      <td>15886.0</td>\n",
       "      <td>justicia</td>\n",
       "      <td>justicia</td>\n",
       "      <td>100</td>\n",
       "    </tr>\n",
       "    <tr>\n",
       "      <td>4</td>\n",
       "      <td>015. Universidad</td>\n",
       "      <td>43.640620</td>\n",
       "      <td>9.423621</td>\n",
       "      <td>32.220221</td>\n",
       "      <td>1.932032</td>\n",
       "      <td>48.727863</td>\n",
       "      <td>29749.0</td>\n",
       "      <td>universidad</td>\n",
       "      <td>universidad</td>\n",
       "      <td>100</td>\n",
       "    </tr>\n",
       "  </tbody>\n",
       "</table>\n",
       "</div>"
      ],
      "text/plain": [
       "               barrios  Edad media de la población  \\\n",
       "0         011. Palacio                   45.105190   \n",
       "1     012. Embajadores                   42.588063   \n",
       "2          013. Cortes                   44.603419   \n",
       "3        014. Justicia                   43.724197   \n",
       "4     015. Universidad                   43.640620   \n",
       "\n",
       "   Porcentaje de población menor de 18 años  \\\n",
       "0                                 10.001047   \n",
       "1                                 10.236172   \n",
       "2                                  8.746671   \n",
       "3                                 10.356446   \n",
       "4                                  9.423621   \n",
       "\n",
       "   Porcentaje de población de 65 y más años  Tamaño medio del hogar  \\\n",
       "0                                 37.284051                1.954046   \n",
       "1                                 29.897280                2.016749   \n",
       "2                                 32.939221                1.907738   \n",
       "3                                 32.177076                1.945774   \n",
       "4                                 32.220221                1.932032   \n",
       "\n",
       "   Porcentaje de hogares unipersonales  Población            b    u_barrios  \\\n",
       "0                            47.116254    21483.0      palacio      palacio   \n",
       "1                            47.211251    43312.0  embajadores  embajadores   \n",
       "2                            49.132435    10092.0       cortes       cortes   \n",
       "3                            49.133641    15886.0     justicia     justicia   \n",
       "4                            48.727863    29749.0  universidad  universidad   \n",
       "\n",
       "   similarity  \n",
       "0         100  \n",
       "1         100  \n",
       "2         100  \n",
       "3         100  \n",
       "4         100  "
      ]
     },
     "execution_count": 52,
     "metadata": {},
     "output_type": "execute_result"
    }
   ],
   "source": [
    "u_barrios = []\n",
    "similarity = []\n",
    "\n",
    "for barrio in df.b:\n",
    "        ratio = process.extract( barrio, unique_barrios, limit=1)\n",
    "        u_barrios.append(ratio[0][0])\n",
    "        similarity.append(ratio[0][1])\n",
    "\n",
    "df['u_barrios'] = pd.Series(u_barrios)\n",
    "\n",
    "df['similarity'] = pd.Series(similarity)\n",
    "\n",
    "df.head()"
   ]
  },
  {
   "cell_type": "code",
   "execution_count": 53,
   "metadata": {},
   "outputs": [
    {
     "data": {
      "text/html": [
       "<div>\n",
       "<style scoped>\n",
       "    .dataframe tbody tr th:only-of-type {\n",
       "        vertical-align: middle;\n",
       "    }\n",
       "\n",
       "    .dataframe tbody tr th {\n",
       "        vertical-align: top;\n",
       "    }\n",
       "\n",
       "    .dataframe thead th {\n",
       "        text-align: right;\n",
       "    }\n",
       "</style>\n",
       "<table border=\"1\" class=\"dataframe\">\n",
       "  <thead>\n",
       "    <tr style=\"text-align: right;\">\n",
       "      <th></th>\n",
       "      <th>barrios</th>\n",
       "      <th>Edad media de la población</th>\n",
       "      <th>Porcentaje de población menor de 18 años</th>\n",
       "      <th>Porcentaje de población de 65 y más años</th>\n",
       "      <th>Tamaño medio del hogar</th>\n",
       "      <th>Porcentaje de hogares unipersonales</th>\n",
       "      <th>Población</th>\n",
       "      <th>b</th>\n",
       "      <th>u_barrios</th>\n",
       "      <th>similarity</th>\n",
       "    </tr>\n",
       "  </thead>\n",
       "  <tbody>\n",
       "    <tr>\n",
       "      <td>17</td>\n",
       "      <td>035. Jerónimos</td>\n",
       "      <td>47.927343</td>\n",
       "      <td>12.834347</td>\n",
       "      <td>68.095180</td>\n",
       "      <td>2.468555</td>\n",
       "      <td>32.387270</td>\n",
       "      <td>6839.0</td>\n",
       "      <td>jerónimos</td>\n",
       "      <td>los jeronimos</td>\n",
       "      <td>79</td>\n",
       "    </tr>\n",
       "    <tr>\n",
       "      <td>129</td>\n",
       "      <td>214. Timón</td>\n",
       "      <td>37.309253</td>\n",
       "      <td>22.377836</td>\n",
       "      <td>27.146370</td>\n",
       "      <td>2.642924</td>\n",
       "      <td>25.553290</td>\n",
       "      <td>10991.0</td>\n",
       "      <td>timón</td>\n",
       "      <td>timon</td>\n",
       "      <td>89</td>\n",
       "    </tr>\n",
       "    <tr>\n",
       "      <td>46</td>\n",
       "      <td>084. Pilar</td>\n",
       "      <td>47.885955</td>\n",
       "      <td>12.154383</td>\n",
       "      <td>70.623753</td>\n",
       "      <td>2.373826</td>\n",
       "      <td>30.066860</td>\n",
       "      <td>45597.0</td>\n",
       "      <td>pilar</td>\n",
       "      <td>el pilar</td>\n",
       "      <td>90</td>\n",
       "    </tr>\n",
       "    <tr>\n",
       "      <td>119</td>\n",
       "      <td>202. Hellín</td>\n",
       "      <td>47.669198</td>\n",
       "      <td>13.644603</td>\n",
       "      <td>62.516942</td>\n",
       "      <td>2.396051</td>\n",
       "      <td>31.918877</td>\n",
       "      <td>8782.0</td>\n",
       "      <td>hellín</td>\n",
       "      <td>hellin</td>\n",
       "      <td>91</td>\n",
       "    </tr>\n",
       "    <tr>\n",
       "      <td>76</td>\n",
       "      <td>125. Moscardó</td>\n",
       "      <td>43.811689</td>\n",
       "      <td>14.785553</td>\n",
       "      <td>52.133774</td>\n",
       "      <td>2.596086</td>\n",
       "      <td>29.807332</td>\n",
       "      <td>24843.0</td>\n",
       "      <td>moscardó</td>\n",
       "      <td>moscardo</td>\n",
       "      <td>93</td>\n",
       "    </tr>\n",
       "  </tbody>\n",
       "</table>\n",
       "</div>"
      ],
      "text/plain": [
       "               barrios  Edad media de la población  \\\n",
       "17      035. Jerónimos                   47.927343   \n",
       "129         214. Timón                   37.309253   \n",
       "46          084. Pilar                   47.885955   \n",
       "119        202. Hellín                   47.669198   \n",
       "76       125. Moscardó                   43.811689   \n",
       "\n",
       "     Porcentaje de población menor de 18 años  \\\n",
       "17                                  12.834347   \n",
       "129                                 22.377836   \n",
       "46                                  12.154383   \n",
       "119                                 13.644603   \n",
       "76                                  14.785553   \n",
       "\n",
       "     Porcentaje de población de 65 y más años  Tamaño medio del hogar  \\\n",
       "17                                  68.095180                2.468555   \n",
       "129                                 27.146370                2.642924   \n",
       "46                                  70.623753                2.373826   \n",
       "119                                 62.516942                2.396051   \n",
       "76                                  52.133774                2.596086   \n",
       "\n",
       "     Porcentaje de hogares unipersonales  Población          b      u_barrios  \\\n",
       "17                             32.387270     6839.0  jerónimos  los jeronimos   \n",
       "129                            25.553290    10991.0      timón          timon   \n",
       "46                             30.066860    45597.0      pilar       el pilar   \n",
       "119                            31.918877     8782.0     hellín         hellin   \n",
       "76                             29.807332    24843.0   moscardó       moscardo   \n",
       "\n",
       "     similarity  \n",
       "17           79  \n",
       "129          89  \n",
       "46           90  \n",
       "119          91  \n",
       "76           93  "
      ]
     },
     "execution_count": 53,
     "metadata": {},
     "output_type": "execute_result"
    }
   ],
   "source": [
    "df.sort_values(by='similarity', ascending=True).head()"
   ]
  },
  {
   "cell_type": "markdown",
   "metadata": {},
   "source": [
    "It's look like everything is fine, the only columns we need are **u_barrios**, **Edad media de la población** (Average Age) and **Población** (Population), so we filter the DataFrame."
   ]
  },
  {
   "cell_type": "code",
   "execution_count": 54,
   "metadata": {},
   "outputs": [
    {
     "data": {
      "text/html": [
       "<div>\n",
       "<style scoped>\n",
       "    .dataframe tbody tr th:only-of-type {\n",
       "        vertical-align: middle;\n",
       "    }\n",
       "\n",
       "    .dataframe tbody tr th {\n",
       "        vertical-align: top;\n",
       "    }\n",
       "\n",
       "    .dataframe thead th {\n",
       "        text-align: right;\n",
       "    }\n",
       "</style>\n",
       "<table border=\"1\" class=\"dataframe\">\n",
       "  <thead>\n",
       "    <tr style=\"text-align: right;\">\n",
       "      <th></th>\n",
       "      <th>u_barrios</th>\n",
       "      <th>Edad media de la población</th>\n",
       "      <th>Población</th>\n",
       "    </tr>\n",
       "  </thead>\n",
       "  <tbody>\n",
       "    <tr>\n",
       "      <td>0</td>\n",
       "      <td>palacio</td>\n",
       "      <td>45.105190</td>\n",
       "      <td>21483.0</td>\n",
       "    </tr>\n",
       "    <tr>\n",
       "      <td>1</td>\n",
       "      <td>embajadores</td>\n",
       "      <td>42.588063</td>\n",
       "      <td>43312.0</td>\n",
       "    </tr>\n",
       "    <tr>\n",
       "      <td>2</td>\n",
       "      <td>cortes</td>\n",
       "      <td>44.603419</td>\n",
       "      <td>10092.0</td>\n",
       "    </tr>\n",
       "    <tr>\n",
       "      <td>3</td>\n",
       "      <td>justicia</td>\n",
       "      <td>43.724197</td>\n",
       "      <td>15886.0</td>\n",
       "    </tr>\n",
       "    <tr>\n",
       "      <td>4</td>\n",
       "      <td>universidad</td>\n",
       "      <td>43.640620</td>\n",
       "      <td>29749.0</td>\n",
       "    </tr>\n",
       "  </tbody>\n",
       "</table>\n",
       "</div>"
      ],
      "text/plain": [
       "     u_barrios  Edad media de la población  Población\n",
       "0      palacio                   45.105190    21483.0\n",
       "1  embajadores                   42.588063    43312.0\n",
       "2       cortes                   44.603419    10092.0\n",
       "3     justicia                   43.724197    15886.0\n",
       "4  universidad                   43.640620    29749.0"
      ]
     },
     "execution_count": 54,
     "metadata": {},
     "output_type": "execute_result"
    }
   ],
   "source": [
    "population = df[['u_barrios', 'Edad media de la población', 'Población']]\n",
    "population.head()"
   ]
  },
  {
   "cell_type": "markdown",
   "metadata": {},
   "source": [
    "To check if the neighborhood values are the same in both DataFrames, we sort the unique values in both columns and compare both arrays."
   ]
  },
  {
   "cell_type": "code",
   "execution_count": 55,
   "metadata": {},
   "outputs": [],
   "source": [
    "barrios_unique = population.u_barrios.sort_values().unique()"
   ]
  },
  {
   "cell_type": "code",
   "execution_count": 56,
   "metadata": {},
   "outputs": [
    {
     "data": {
      "text/plain": [
       "True"
      ]
     },
     "execution_count": 56,
     "metadata": {},
     "output_type": "execute_result"
    }
   ],
   "source": [
    "np.array_equal(unique_barrios, barrios_unique)"
   ]
  },
  {
   "cell_type": "markdown",
   "metadata": {},
   "source": [
    "The process would be the same for the average income dataset and for the coordinates dataset. Other thing that I want to change and improve is the code that I used to create new categorical values for population, average age and average income. I'm going to use **.cut()** to create the categorical values for population."
   ]
  },
  {
   "cell_type": "code",
   "execution_count": 57,
   "metadata": {},
   "outputs": [
    {
     "data": {
      "text/html": [
       "<div>\n",
       "<style scoped>\n",
       "    .dataframe tbody tr th:only-of-type {\n",
       "        vertical-align: middle;\n",
       "    }\n",
       "\n",
       "    .dataframe tbody tr th {\n",
       "        vertical-align: top;\n",
       "    }\n",
       "\n",
       "    .dataframe thead th {\n",
       "        text-align: right;\n",
       "    }\n",
       "</style>\n",
       "<table border=\"1\" class=\"dataframe\">\n",
       "  <thead>\n",
       "    <tr style=\"text-align: right;\">\n",
       "      <th></th>\n",
       "      <th>u_barrios</th>\n",
       "      <th>Edad media de la población</th>\n",
       "      <th>Población</th>\n",
       "      <th>pop_labels</th>\n",
       "    </tr>\n",
       "  </thead>\n",
       "  <tbody>\n",
       "    <tr>\n",
       "      <td>0</td>\n",
       "      <td>palacio</td>\n",
       "      <td>45.105190</td>\n",
       "      <td>21483.0</td>\n",
       "      <td>low_mid_pop</td>\n",
       "    </tr>\n",
       "    <tr>\n",
       "      <td>1</td>\n",
       "      <td>embajadores</td>\n",
       "      <td>42.588063</td>\n",
       "      <td>43312.0</td>\n",
       "      <td>middle_pop</td>\n",
       "    </tr>\n",
       "    <tr>\n",
       "      <td>2</td>\n",
       "      <td>cortes</td>\n",
       "      <td>44.603419</td>\n",
       "      <td>10092.0</td>\n",
       "      <td>low_pop</td>\n",
       "    </tr>\n",
       "    <tr>\n",
       "      <td>3</td>\n",
       "      <td>justicia</td>\n",
       "      <td>43.724197</td>\n",
       "      <td>15886.0</td>\n",
       "      <td>low_mid_pop</td>\n",
       "    </tr>\n",
       "    <tr>\n",
       "      <td>4</td>\n",
       "      <td>universidad</td>\n",
       "      <td>43.640620</td>\n",
       "      <td>29749.0</td>\n",
       "      <td>low_mid_pop</td>\n",
       "    </tr>\n",
       "  </tbody>\n",
       "</table>\n",
       "</div>"
      ],
      "text/plain": [
       "     u_barrios  Edad media de la población  Población   pop_labels\n",
       "0      palacio                   45.105190    21483.0  low_mid_pop\n",
       "1  embajadores                   42.588063    43312.0   middle_pop\n",
       "2       cortes                   44.603419    10092.0      low_pop\n",
       "3     justicia                   43.724197    15886.0  low_mid_pop\n",
       "4  universidad                   43.640620    29749.0  low_mid_pop"
      ]
     },
     "execution_count": 57,
     "metadata": {},
     "output_type": "execute_result"
    }
   ],
   "source": [
    "label_ranges = [0, 15000, 30000, 45000, 65000, 80000]\n",
    "label_names = ['low_pop', 'low_mid_pop', 'middle_pop', 'mid_high_pop', 'high_pop']\n",
    "\n",
    "population['pop_labels'] = pd.cut(population['Población'], bins = label_ranges, \n",
    "                                labels = label_names)\n",
    "population.head()"
   ]
  },
  {
   "cell_type": "markdown",
   "metadata": {},
   "source": [
    "That's all for now."
   ]
  },
  {
   "cell_type": "code",
   "execution_count": null,
   "metadata": {},
   "outputs": [],
   "source": []
  }
 ],
 "metadata": {
  "kernelspec": {
   "display_name": "Python 3",
   "language": "python",
   "name": "python3"
  },
  "language_info": {
   "codemirror_mode": {
    "name": "ipython",
    "version": 3
   },
   "file_extension": ".py",
   "mimetype": "text/x-python",
   "name": "python",
   "nbconvert_exporter": "python",
   "pygments_lexer": "ipython3",
   "version": "3.7.4"
  }
 },
 "nbformat": 4,
 "nbformat_minor": 4
}
